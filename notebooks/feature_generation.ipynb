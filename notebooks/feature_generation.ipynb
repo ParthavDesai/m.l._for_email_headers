{
 "cells": [
  {
   "cell_type": "markdown",
   "metadata": {},
   "source": [
    "# Feature Generation"
   ]
  },
  {
   "cell_type": "code",
   "execution_count": 1,
   "metadata": {},
   "outputs": [],
   "source": [
    "# Importing necessary libraries\n",
    "import numpy as np\n",
    "import pandas as pd\n",
    "from pathlib import Path\n",
    "from datetime import datetime\n",
    "import re\n",
    "from spam_lists import SPAMHAUS_DBL\n",
    "import spf\n",
    "import checkdmarc"
   ]
  },
  {
   "cell_type": "markdown",
   "metadata": {},
   "source": [
    "### Read file"
   ]
  },
  {
   "cell_type": "code",
   "execution_count": 2,
   "metadata": {},
   "outputs": [],
   "source": [
    "#reading the .csv file and declare datatype to avoid low memory issues\n",
    "df = pd.read_csv(\"preprocessed.csv\",dtype='unicode')"
   ]
  },
  {
   "cell_type": "markdown",
   "metadata": {},
   "source": [
    "## Add new features to the dataset"
   ]
  },
  {
   "cell_type": "markdown",
   "metadata": {},
   "source": [
    "###  check if the subject contains sepcial characters"
   ]
  },
  {
   "cell_type": "code",
   "execution_count": 15,
   "metadata": {},
   "outputs": [],
   "source": [
    "def if_special(x):\n",
    "    special_characters = \"]!@#$%^&*()-+?_=,<>/[\"\n",
    "    for c in x :\n",
    "        if c in special_characters:\n",
    "            return 1\n",
    "    return 0"
   ]
  },
  {
   "cell_type": "code",
   "execution_count": 16,
   "metadata": {},
   "outputs": [],
   "source": [
    "df['special_characters_exists_subject'] = df['Subject'].apply(if_special)"
   ]
  },
  {
   "cell_type": "markdown",
   "metadata": {},
   "source": [
    "### count number of words in subject"
   ]
  },
  {
   "cell_type": "code",
   "execution_count": 17,
   "metadata": {},
   "outputs": [],
   "source": [
    "def count_num_words(x):\n",
    "    w = x.split(\" \")\n",
    "    return len(w)"
   ]
  },
  {
   "cell_type": "code",
   "execution_count": 18,
   "metadata": {},
   "outputs": [],
   "source": [
    "df['number_of_words_subject'] = df['Subject'].apply(count_num_words)"
   ]
  },
  {
   "cell_type": "markdown",
   "metadata": {},
   "source": [
    "### calculate total time"
   ]
  },
  {
   "cell_type": "markdown",
   "metadata": {},
   "source": [
    "from hopper import Hopper\n"
   ]
  },
  {
   "cell_type": "markdown",
   "metadata": {},
   "source": [
    "### count number of capitalized words in subject"
   ]
  },
  {
   "cell_type": "code",
   "execution_count": 19,
   "metadata": {},
   "outputs": [],
   "source": [
    "def count_num_cap_words(x):\n",
    "    w = x.split(\" \")\n",
    "    count = 0\n",
    "    for i in w:\n",
    "        if i.isupper():\n",
    "            count+=1\n",
    "    return count"
   ]
  },
  {
   "cell_type": "code",
   "execution_count": 20,
   "metadata": {},
   "outputs": [],
   "source": [
    "df['number_of_capitalized_words_subject'] = df['Subject'].apply(count_num_cap_words)"
   ]
  },
  {
   "cell_type": "markdown",
   "metadata": {},
   "source": [
    "### count number of capitalized characters in subject"
   ]
  },
  {
   "cell_type": "code",
   "execution_count": 21,
   "metadata": {},
   "outputs": [],
   "source": [
    "def count_num_cap_char(x):\n",
    "    count = 0\n",
    "    for i in x:\n",
    "        if i.isupper():\n",
    "            count+=1\n",
    "    return count"
   ]
  },
  {
   "cell_type": "code",
   "execution_count": 22,
   "metadata": {},
   "outputs": [],
   "source": [
    "df['number_of_capitalized_characters_subject'] = df['Subject'].apply(count_num_cap_char)"
   ]
  },
  {
   "cell_type": "markdown",
   "metadata": {},
   "source": [
    "### count number of digits in subject"
   ]
  },
  {
   "cell_type": "code",
   "execution_count": 23,
   "metadata": {},
   "outputs": [],
   "source": [
    "def count_digit(x):\n",
    "    count=0\n",
    "    for i in x:\n",
    "        if i.isdigit():\n",
    "            count+=1\n",
    "    return count"
   ]
  },
  {
   "cell_type": "code",
   "execution_count": 24,
   "metadata": {},
   "outputs": [],
   "source": [
    "df['number_of_digits_subject'] = df['Subject'].apply(count_digit)"
   ]
  },
  {
   "cell_type": "markdown",
   "metadata": {},
   "source": [
    "### count number of characters in subject"
   ]
  },
  {
   "cell_type": "code",
   "execution_count": 25,
   "metadata": {},
   "outputs": [],
   "source": [
    "def count_num_char(x):\n",
    "    count=0\n",
    "    for i in x:\n",
    "        if i.isalpha():\n",
    "            count+=1\n",
    "    return count"
   ]
  },
  {
   "cell_type": "code",
   "execution_count": 26,
   "metadata": {},
   "outputs": [],
   "source": [
    "df['number_of_characters_subject'] = df['Subject'].apply(count_num_char)"
   ]
  },
  {
   "cell_type": "markdown",
   "metadata": {},
   "source": [
    "###  Total number of spaces in Subject "
   ]
  },
  {
   "cell_type": "code",
   "execution_count": 27,
   "metadata": {},
   "outputs": [],
   "source": [
    "def count_space(x):\n",
    "    count=0\n",
    "    for i in x:\n",
    "        if i.isspace():\n",
    "            count+=1\n",
    "    return count"
   ]
  },
  {
   "cell_type": "code",
   "execution_count": 28,
   "metadata": {},
   "outputs": [],
   "source": [
    "df['number_of_spaces_subject'] = df['Subject'].apply(count_space)"
   ]
  },
  {
   "cell_type": "markdown",
   "metadata": {},
   "source": [
    "### Total number of special characters in Subject "
   ]
  },
  {
   "cell_type": "code",
   "execution_count": 29,
   "metadata": {},
   "outputs": [],
   "source": [
    "def count_special(x):\n",
    "    special_characters = \"]!@#$%^&*()-+?_=,<>/[\"\n",
    "    return len([c for c in x if c in special_characters])"
   ]
  },
  {
   "cell_type": "code",
   "execution_count": 30,
   "metadata": {},
   "outputs": [],
   "source": [
    "df['number_of_special_characters_subject'] = df['Subject'].apply(count_special)"
   ]
  },
  {
   "cell_type": "markdown",
   "metadata": {},
   "source": [
    "### Number of single quotes in Subject "
   ]
  },
  {
   "cell_type": "code",
   "execution_count": 31,
   "metadata": {},
   "outputs": [],
   "source": [
    "def singleQuote(x):\n",
    "    count = 0\n",
    "    for res in x:\n",
    "        if \"'\" in res:\n",
    "            count+=1\n",
    "    save = count/2\n",
    "    return save"
   ]
  },
  {
   "cell_type": "code",
   "execution_count": 32,
   "metadata": {},
   "outputs": [],
   "source": [
    "df['number_of_single_Quotes_subject'] = df['Subject'].apply(singleQuote)"
   ]
  },
  {
   "cell_type": "markdown",
   "metadata": {},
   "source": [
    "### Number of semi-colons in Subject "
   ]
  },
  {
   "cell_type": "code",
   "execution_count": 33,
   "metadata": {},
   "outputs": [],
   "source": [
    "def count_num_semiColon(x):\n",
    "    count = 0\n",
    "    for i in x:\n",
    "        if ';' in i:\n",
    "            count+=1\n",
    "    return count\n"
   ]
  },
  {
   "cell_type": "code",
   "execution_count": 34,
   "metadata": {},
   "outputs": [],
   "source": [
    "df['number_of_semiColon_subject'] = df['Subject'].apply(count_num_semiColon)"
   ]
  },
  {
   "cell_type": "markdown",
   "metadata": {},
   "source": [
    "### Ratio upper case  / lower case in subject"
   ]
  },
  {
   "cell_type": "code",
   "execution_count": 35,
   "metadata": {},
   "outputs": [],
   "source": [
    "def ratio_upperCase_lowerCae(x):\n",
    "\n",
    "    countUpp =0\n",
    "    countLow =0\n",
    "\n",
    "    save = x.split(\" \")\n",
    "    for i in save:\n",
    "        if i.isupper():\n",
    "            countUpp+=1\n",
    "        else:\n",
    "            countLow+=1\n",
    "\n",
    "    ratio = countUpp/countLow\n",
    "\n",
    "    return ratio"
   ]
  },
  {
   "cell_type": "code",
   "execution_count": 36,
   "metadata": {},
   "outputs": [],
   "source": [
    "df['ratio_of_uppercase/lowercase_words'] = df['Subject'].apply(ratio_upperCase_lowerCae)"
   ]
  },
  {
   "cell_type": "markdown",
   "metadata": {},
   "source": [
    "### Total number of uppercase words "
   ]
  },
  {
   "cell_type": "code",
   "execution_count": 37,
   "metadata": {},
   "outputs": [],
   "source": [
    "def upperCase(x):\n",
    "    count = 0\n",
    "    save = x.split(\" \")\n",
    "    for i in save:\n",
    "        if i.isupper():\n",
    "            count+=1\n",
    "    return count\n"
   ]
  },
  {
   "cell_type": "code",
   "execution_count": 38,
   "metadata": {},
   "outputs": [],
   "source": [
    "df['Total_number_of_upperCase'] = df['Subject'].apply(upperCase)"
   ]
  },
  {
   "cell_type": "markdown",
   "metadata": {},
   "source": [
    "### Max. Word length (number of characters on the longest word in Subject) "
   ]
  },
  {
   "cell_type": "code",
   "execution_count": 39,
   "metadata": {},
   "outputs": [],
   "source": [
    "def MaxWordLength(str): \n",
    "    strLen = len(str) \n",
    "    save = 0; currentLength = 0\n",
    "      \n",
    "    for i in range(0, strLen): \n",
    "        if (str[i] != ' '): \n",
    "            currentLength += 1\n",
    "        else: \n",
    "            save = max(save, currentLength) \n",
    "            currentLength = 0\n",
    "\n",
    "    return max(save, currentLength) "
   ]
  },
  {
   "cell_type": "code",
   "execution_count": 40,
   "metadata": {},
   "outputs": [],
   "source": [
    "df['Max_word_length_in_subject'] = df['Subject'].apply(MaxWordLength)"
   ]
  },
  {
   "cell_type": "markdown",
   "metadata": {},
   "source": [
    "## Check SPF Valid"
   ]
  },
  {
   "cell_type": "code",
   "execution_count": 6,
   "metadata": {},
   "outputs": [],
   "source": [
    "df['new_email'] = df['From'].str.extract(r'([\\w\\.-]+@[\\w\\.-]+)')\n",
    "df['domain'] = df['new_email'].apply(str).str.split('@').str[1]\n"
   ]
  },
  {
   "cell_type": "code",
   "execution_count": 42,
   "metadata": {},
   "outputs": [],
   "source": [
    "stored_spf = dict()\n",
    "def check_spf_valid(domain):\n",
    "    if(domain == ' ' or domain == '' or domain == 'nan'):\n",
    "        return 0\n",
    "    if(stored_spf.get(domain)==None):\n",
    "        try:\n",
    "            checkdmarc.get_dmarc_record(domain, nameservers=[\"1.1.1.1\"])\n",
    "            stored_spf[domain] = 1\n",
    "            return 1\n",
    "        except:\n",
    "            stored_spf[domain] = 0\n",
    "            return 0\n",
    "    else:\n",
    "        return stored_spf.get(domain)"
   ]
  },
  {
   "cell_type": "code",
   "execution_count": null,
   "metadata": {},
   "outputs": [],
   "source": [
    "df['spf_valid'] = df.apply(lambda row: check_spf_valid(row['domain']), axis=1)"
   ]
  },
  {
   "cell_type": "markdown",
   "metadata": {},
   "source": [
    "## Checking Black list"
   ]
  },
  {
   "cell_type": "code",
   "execution_count": 6,
   "metadata": {},
   "outputs": [],
   "source": [
    "stored_val = dict()\n",
    "def check_blackListed(domain):\n",
    "    if(domain == ' ' or domain == '' or domain == 'nan'):\n",
    "        return 0\n",
    "    if(stored_val.get(domain)==None):\n",
    "        try:\n",
    "            if(domain in SPAMHAUS_DBL):\n",
    "                stored_val[domain] = 1\n",
    "                return 1\n",
    "            else:\n",
    "                stored_val[domain]= 0\n",
    "                return 0\n",
    "        except:\n",
    "            return 0\n",
    "    else:\n",
    "        return stored_val.get(domain)\n",
    "   "
   ]
  },
  {
   "cell_type": "code",
   "execution_count": null,
   "metadata": {
    "scrolled": true
   },
   "outputs": [
    {
     "name": "stdout",
     "output_type": "stream",
     "text": [
      "victorytulsa.org\n",
      "False\n",
      "samba.org\n",
      "False\n",
      "auckland.ac.nz\n",
      "False\n",
      "plumcopper.com\n",
      "False\n",
      "cm.nu\n",
      "False\n"
     ]
    }
   ],
   "source": [
    "df['blackListed'] = df.apply(lambda row: check_blackListed(row['domain']),axis=1)"
   ]
  },
  {
   "cell_type": "markdown",
   "metadata": {},
   "source": [
    "## Validating Date"
   ]
  },
  {
   "cell_type": "code",
   "execution_count": null,
   "metadata": {},
   "outputs": [],
   "source": [
    "def validate_date():\n",
    "    df['Date'] = df['Date'].str[:-2]\n",
    "    #validating date after converting it to datetime\n",
    "    df['new_date'] = pd.to_datetime(df['Date'],errors=\"coerce\")\n",
    "    df['validate_date'] = np.where(df['new_date']< datetime.now(), 1, 0)\n",
    "validate_date()\n"
   ]
  },
  {
   "cell_type": "markdown",
   "metadata": {},
   "source": [
    "## Length of Subject"
   ]
  },
  {
   "cell_type": "code",
   "execution_count": null,
   "metadata": {},
   "outputs": [],
   "source": [
    "def find_length_sub():\n",
    "    df['Subject_length']  = df['Subject'].str.len()\n",
    "find_length_sub()"
   ]
  },
  {
   "cell_type": "markdown",
   "metadata": {},
   "source": [
    "### write file"
   ]
  },
  {
   "cell_type": "code",
   "execution_count": null,
   "metadata": {},
   "outputs": [],
   "source": [
    "df.to_csv('data_with_features.csv',index=False)"
   ]
  },
  {
   "cell_type": "code",
   "execution_count": null,
   "metadata": {},
   "outputs": [],
   "source": [
    "df"
   ]
  }
 ],
 "metadata": {
  "kernelspec": {
   "display_name": "Python 3",
   "language": "python",
   "name": "python3"
  },
  "language_info": {
   "codemirror_mode": {
    "name": "ipython",
    "version": 3
   },
   "file_extension": ".py",
   "mimetype": "text/x-python",
   "name": "python",
   "nbconvert_exporter": "python",
   "pygments_lexer": "ipython3",
   "version": "3.8.3"
  },
  "toc": {
   "base_numbering": 1,
   "nav_menu": {},
   "number_sections": true,
   "sideBar": true,
   "skip_h1_title": false,
   "title_cell": "Table of Contents",
   "title_sidebar": "Contents",
   "toc_cell": false,
   "toc_position": {},
   "toc_section_display": true,
   "toc_window_display": false
  }
 },
 "nbformat": 4,
 "nbformat_minor": 5
}
