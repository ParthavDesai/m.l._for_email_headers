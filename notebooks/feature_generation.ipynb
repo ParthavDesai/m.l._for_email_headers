{
 "cells": [
  {
   "cell_type": "markdown",
   "id": "heated-group",
   "metadata": {},
   "source": [
    "# Feature Generation"
   ]
  },
  {
   "cell_type": "code",
<<<<<<< HEAD
   "execution_count": 1,
   "id": "bridal-blackjack",
=======
   "execution_count": 3,
>>>>>>> acdfc9c00f79a6f07fd34aee8a10b939b4eb242b
   "metadata": {},
   "outputs": [
    {
     "name": "stderr",
     "output_type": "stream",
     "text": [
      "/anaconda3/lib/python3.7/site-packages/sklearn/feature_extraction/image.py:167: DeprecationWarning: `np.int` is a deprecated alias for the builtin `int`. To silence this warning, use `int` by itself. Doing this will not modify any behavior and is safe. When replacing `np.int`, you may wish to use e.g. `np.int64` or `np.int32` to specify the precision. If you wish to review your current use, check the release note link for additional information.\n",
      "Deprecated in NumPy 1.20; for more details and guidance: https://numpy.org/devdocs/release/1.20.0-notes.html#deprecations\n",
      "  dtype=np.int):\n",
      "/anaconda3/lib/python3.7/site-packages/sklearn/linear_model/least_angle.py:35: DeprecationWarning: `np.float` is a deprecated alias for the builtin `float`. To silence this warning, use `float` by itself. Doing this will not modify any behavior and is safe. If you specifically wanted the numpy scalar type, use `np.float64` here.\n",
      "Deprecated in NumPy 1.20; for more details and guidance: https://numpy.org/devdocs/release/1.20.0-notes.html#deprecations\n",
      "  eps=np.finfo(np.float).eps,\n",
      "/anaconda3/lib/python3.7/site-packages/sklearn/linear_model/least_angle.py:597: DeprecationWarning: `np.float` is a deprecated alias for the builtin `float`. To silence this warning, use `float` by itself. Doing this will not modify any behavior and is safe. If you specifically wanted the numpy scalar type, use `np.float64` here.\n",
      "Deprecated in NumPy 1.20; for more details and guidance: https://numpy.org/devdocs/release/1.20.0-notes.html#deprecations\n",
      "  eps=np.finfo(np.float).eps, copy_X=True, fit_path=True,\n",
      "/anaconda3/lib/python3.7/site-packages/sklearn/linear_model/least_angle.py:836: DeprecationWarning: `np.float` is a deprecated alias for the builtin `float`. To silence this warning, use `float` by itself. Doing this will not modify any behavior and is safe. If you specifically wanted the numpy scalar type, use `np.float64` here.\n",
      "Deprecated in NumPy 1.20; for more details and guidance: https://numpy.org/devdocs/release/1.20.0-notes.html#deprecations\n",
      "  eps=np.finfo(np.float).eps, copy_X=True, fit_path=True,\n",
      "/anaconda3/lib/python3.7/site-packages/sklearn/linear_model/least_angle.py:862: DeprecationWarning: `np.float` is a deprecated alias for the builtin `float`. To silence this warning, use `float` by itself. Doing this will not modify any behavior and is safe. If you specifically wanted the numpy scalar type, use `np.float64` here.\n",
      "Deprecated in NumPy 1.20; for more details and guidance: https://numpy.org/devdocs/release/1.20.0-notes.html#deprecations\n",
      "  eps=np.finfo(np.float).eps, positive=False):\n",
      "/anaconda3/lib/python3.7/site-packages/sklearn/linear_model/least_angle.py:1097: DeprecationWarning: `np.float` is a deprecated alias for the builtin `float`. To silence this warning, use `float` by itself. Doing this will not modify any behavior and is safe. If you specifically wanted the numpy scalar type, use `np.float64` here.\n",
      "Deprecated in NumPy 1.20; for more details and guidance: https://numpy.org/devdocs/release/1.20.0-notes.html#deprecations\n",
      "  max_n_alphas=1000, n_jobs=None, eps=np.finfo(np.float).eps,\n",
      "/anaconda3/lib/python3.7/site-packages/sklearn/linear_model/least_angle.py:1344: DeprecationWarning: `np.float` is a deprecated alias for the builtin `float`. To silence this warning, use `float` by itself. Doing this will not modify any behavior and is safe. If you specifically wanted the numpy scalar type, use `np.float64` here.\n",
      "Deprecated in NumPy 1.20; for more details and guidance: https://numpy.org/devdocs/release/1.20.0-notes.html#deprecations\n",
      "  max_n_alphas=1000, n_jobs=None, eps=np.finfo(np.float).eps,\n",
      "/anaconda3/lib/python3.7/site-packages/sklearn/linear_model/least_angle.py:1480: DeprecationWarning: `np.float` is a deprecated alias for the builtin `float`. To silence this warning, use `float` by itself. Doing this will not modify any behavior and is safe. If you specifically wanted the numpy scalar type, use `np.float64` here.\n",
      "Deprecated in NumPy 1.20; for more details and guidance: https://numpy.org/devdocs/release/1.20.0-notes.html#deprecations\n",
      "  eps=np.finfo(np.float).eps, copy_X=True, positive=False):\n",
      "/anaconda3/lib/python3.7/site-packages/sklearn/linear_model/randomized_l1.py:152: DeprecationWarning: `np.float` is a deprecated alias for the builtin `float`. To silence this warning, use `float` by itself. Doing this will not modify any behavior and is safe. If you specifically wanted the numpy scalar type, use `np.float64` here.\n",
      "Deprecated in NumPy 1.20; for more details and guidance: https://numpy.org/devdocs/release/1.20.0-notes.html#deprecations\n",
      "  precompute=False, eps=np.finfo(np.float).eps,\n",
      "/anaconda3/lib/python3.7/site-packages/sklearn/linear_model/randomized_l1.py:320: DeprecationWarning: `np.float` is a deprecated alias for the builtin `float`. To silence this warning, use `float` by itself. Doing this will not modify any behavior and is safe. If you specifically wanted the numpy scalar type, use `np.float64` here.\n",
      "Deprecated in NumPy 1.20; for more details and guidance: https://numpy.org/devdocs/release/1.20.0-notes.html#deprecations\n",
      "  eps=np.finfo(np.float).eps, random_state=None,\n",
      "/anaconda3/lib/python3.7/site-packages/sklearn/linear_model/randomized_l1.py:580: DeprecationWarning: `np.float` is a deprecated alias for the builtin `float`. To silence this warning, use `float` by itself. Doing this will not modify any behavior and is safe. If you specifically wanted the numpy scalar type, use `np.float64` here.\n",
      "Deprecated in NumPy 1.20; for more details and guidance: https://numpy.org/devdocs/release/1.20.0-notes.html#deprecations\n",
      "  eps=4 * np.finfo(np.float).eps, n_jobs=None,\n"
     ]
    }
   ],
   "source": [
    "# Importing necessary libraries\n",
    "import gs.dmarc\n",
    "import numpy as np\n",
    "import pandas as pd\n",
    "from autocorrect import Speller\n",
    "from nltk.corpus import wordnet as wn\n",
    "from pathlib import Path"
   ]
  },
  {
   "cell_type": "markdown",
   "id": "written-christian",
   "metadata": {},
   "source": [
    "### Read file"
   ]
  },
  {
   "cell_type": "code",
<<<<<<< HEAD
   "execution_count": 2,
   "id": "radical-colonial",
=======
   "execution_count": 4,
>>>>>>> acdfc9c00f79a6f07fd34aee8a10b939b4eb242b
   "metadata": {},
   "outputs": [],
   "source": [
    "#reading the .csv file and declare datatype to avoid low memory issues\n",
    "df = pd.read_csv(\"preprocessed.csv\",dtype='unicode')"
   ]
  },
  {
   "cell_type": "markdown",
   "id": "reverse-nirvana",
   "metadata": {},
   "source": [
    "## Add new features to the dataset"
   ]
  },
  {
   "cell_type": "markdown",
   "id": "medium-consequence",
   "metadata": {},
   "source": [
    "###  check if the subject contains special characters"
   ]
  },
  {
   "cell_type": "code",
<<<<<<< HEAD
   "execution_count": 3,
   "id": "entire-lindsay",
=======
   "execution_count": 5,
>>>>>>> acdfc9c00f79a6f07fd34aee8a10b939b4eb242b
   "metadata": {},
   "outputs": [],
   "source": [
    "def if_special(x):\n",
    "    special_characters = \"]!@#$%^&*()-+?_=,<>/[\"\n",
    "    for c in x :\n",
    "        if c in special_characters:\n",
    "            return 1\n",
    "    return 0"
   ]
  },
  {
   "cell_type": "code",
<<<<<<< HEAD
   "execution_count": 4,
   "id": "oriental-lloyd",
=======
   "execution_count": 6,
>>>>>>> acdfc9c00f79a6f07fd34aee8a10b939b4eb242b
   "metadata": {},
   "outputs": [],
   "source": [
    "df['special_characters_exists_subject'] = df['Subject'].apply(if_special)"
   ]
  },
  {
   "cell_type": "markdown",
   "id": "relative-chester",
   "metadata": {},
   "source": [
    "### count number of words in subject"
   ]
  },
  {
   "cell_type": "code",
<<<<<<< HEAD
   "execution_count": 5,
   "id": "warming-virus",
=======
   "execution_count": 7,
>>>>>>> acdfc9c00f79a6f07fd34aee8a10b939b4eb242b
   "metadata": {},
   "outputs": [],
   "source": [
    "def count_num_words(x):\n",
    "    w = x.split(\" \")\n",
    "    return len(w)"
   ]
  },
  {
   "cell_type": "code",
<<<<<<< HEAD
   "execution_count": 6,
   "id": "renewable-restoration",
=======
   "execution_count": 8,
>>>>>>> acdfc9c00f79a6f07fd34aee8a10b939b4eb242b
   "metadata": {},
   "outputs": [],
   "source": [
    "df['number_of_words_subject'] = df['Subject'].apply(count_num_words)"
   ]
  },
  {
   "cell_type": "markdown",
   "id": "growing-insider",
   "metadata": {},
   "source": [
    "### count number of capitalized words in subject"
   ]
  },
  {
   "cell_type": "code",
<<<<<<< HEAD
   "execution_count": 7,
   "id": "compact-partition",
=======
   "execution_count": 9,
>>>>>>> acdfc9c00f79a6f07fd34aee8a10b939b4eb242b
   "metadata": {},
   "outputs": [],
   "source": [
    "def count_num_cap_words(x):\n",
    "    w = x.split(\" \")\n",
    "    count = 0\n",
    "    for i in w:\n",
    "        if i.isupper():\n",
    "            count+=1\n",
    "    return count"
   ]
  },
  {
   "cell_type": "code",
<<<<<<< HEAD
   "execution_count": 8,
   "id": "alike-guatemala",
=======
   "execution_count": 10,
>>>>>>> acdfc9c00f79a6f07fd34aee8a10b939b4eb242b
   "metadata": {},
   "outputs": [],
   "source": [
    "df['number_of_capitalized_words_subject'] = df['Subject'].apply(count_num_cap_words)"
   ]
  },
  {
   "cell_type": "markdown",
   "id": "aquatic-adolescent",
   "metadata": {},
   "source": [
    "### count number of capitalized characters in subject"
   ]
  },
  {
   "cell_type": "code",
<<<<<<< HEAD
   "execution_count": 9,
   "id": "printable-cuisine",
=======
   "execution_count": 11,
>>>>>>> acdfc9c00f79a6f07fd34aee8a10b939b4eb242b
   "metadata": {},
   "outputs": [],
   "source": [
    "def count_num_cap_char(x):\n",
    "    count = 0\n",
    "    for i in x:\n",
    "        if i.isupper():\n",
    "            count+=1\n",
    "    return count"
   ]
  },
  {
   "cell_type": "code",
<<<<<<< HEAD
   "execution_count": 10,
   "id": "temporal-accommodation",
=======
   "execution_count": 12,
>>>>>>> acdfc9c00f79a6f07fd34aee8a10b939b4eb242b
   "metadata": {},
   "outputs": [],
   "source": [
    "df['number_of_capitalized_characters_subject'] = df['Subject'].apply(count_num_cap_char)"
   ]
  },
  {
   "cell_type": "markdown",
   "id": "activated-proceeding",
   "metadata": {},
   "source": [
    "### count number of digits in subject"
   ]
  },
  {
   "cell_type": "code",
<<<<<<< HEAD
   "execution_count": 11,
   "id": "balanced-attack",
=======
   "execution_count": 13,
>>>>>>> acdfc9c00f79a6f07fd34aee8a10b939b4eb242b
   "metadata": {},
   "outputs": [],
   "source": [
    "def count_digit(x):\n",
    "    count=0\n",
    "    for i in x:\n",
    "        if i.isdigit():\n",
    "            count+=1\n",
    "    return count"
   ]
  },
  {
   "cell_type": "code",
<<<<<<< HEAD
   "execution_count": 12,
   "id": "completed-sewing",
=======
   "execution_count": 14,
>>>>>>> acdfc9c00f79a6f07fd34aee8a10b939b4eb242b
   "metadata": {},
   "outputs": [],
   "source": [
    "df['number_of_digits_subject'] = df['Subject'].apply(count_digit)"
   ]
  },
  {
   "cell_type": "markdown",
   "id": "adopted-moscow",
   "metadata": {},
   "source": [
    "### count number of characters in subject"
   ]
  },
  {
   "cell_type": "code",
<<<<<<< HEAD
   "execution_count": 13,
   "id": "ambient-interview",
=======
   "execution_count": 15,
>>>>>>> acdfc9c00f79a6f07fd34aee8a10b939b4eb242b
   "metadata": {},
   "outputs": [],
   "source": [
    "def count_num_char(x):\n",
    "    count=0\n",
    "    for i in x:\n",
    "        if i.isalpha():\n",
    "            count+=1\n",
    "    return count"
   ]
  },
  {
   "cell_type": "code",
<<<<<<< HEAD
   "execution_count": 14,
   "id": "close-visitor",
=======
   "execution_count": 16,
>>>>>>> acdfc9c00f79a6f07fd34aee8a10b939b4eb242b
   "metadata": {},
   "outputs": [],
   "source": [
    "df['number_of_characters_subject'] = df['Subject'].apply(count_num_char)"
   ]
  },
  {
   "cell_type": "markdown",
   "id": "loved-operation",
   "metadata": {},
   "source": [
    "###  Total number of spaces in Subject "
   ]
  },
  {
   "cell_type": "code",
<<<<<<< HEAD
   "execution_count": 15,
   "id": "competitive-april",
=======
   "execution_count": 17,
>>>>>>> acdfc9c00f79a6f07fd34aee8a10b939b4eb242b
   "metadata": {},
   "outputs": [],
   "source": [
    "def count_space(x):\n",
    "    count=0\n",
    "    for i in x:\n",
    "        if i.isspace():\n",
    "            count+=1\n",
    "    return count"
   ]
  },
  {
   "cell_type": "code",
<<<<<<< HEAD
   "execution_count": 16,
   "id": "racial-strand",
=======
   "execution_count": 18,
>>>>>>> acdfc9c00f79a6f07fd34aee8a10b939b4eb242b
   "metadata": {},
   "outputs": [],
   "source": [
    "df['number_of_spaces_subject'] = df['Subject'].apply(count_space)"
   ]
  },
  {
   "cell_type": "markdown",
   "id": "appreciated-cable",
   "metadata": {},
   "source": [
    "### Total number of special characters in Subject "
   ]
  },
  {
   "cell_type": "code",
<<<<<<< HEAD
   "execution_count": 17,
   "id": "recent-airplane",
=======
   "execution_count": 19,
>>>>>>> acdfc9c00f79a6f07fd34aee8a10b939b4eb242b
   "metadata": {},
   "outputs": [],
   "source": [
    "def count_special(x):\n",
    "    special_characters = \"]!@#$%^&*()-+?_=,<>/[\"\n",
    "    return len([c for c in x if c in special_characters])"
   ]
  },
  {
   "cell_type": "code",
<<<<<<< HEAD
   "execution_count": 18,
   "id": "extraordinary-bottle",
=======
   "execution_count": 20,
>>>>>>> acdfc9c00f79a6f07fd34aee8a10b939b4eb242b
   "metadata": {},
   "outputs": [],
   "source": [
    "df['number_of_special_characters_subject'] = df['Subject'].apply(count_special)"
   ]
  },
  {
   "cell_type": "markdown",
   "id": "random-contemporary",
   "metadata": {},
   "source": [
    "### Number of single quotes in Subject "
   ]
  },
  {
   "cell_type": "code",
<<<<<<< HEAD
   "execution_count": 19,
   "id": "social-cornell",
=======
   "execution_count": 21,
>>>>>>> acdfc9c00f79a6f07fd34aee8a10b939b4eb242b
   "metadata": {},
   "outputs": [],
   "source": [
    "def singleQuote(x):\n",
    "    count = 0\n",
    "    for res in x:\n",
    "        if \"'\" in res:\n",
    "            count+=1\n",
    "    save = count/2\n",
    "    return save"
   ]
  },
  {
   "cell_type": "code",
<<<<<<< HEAD
   "execution_count": 20,
   "id": "egyptian-container",
=======
   "execution_count": 22,
>>>>>>> acdfc9c00f79a6f07fd34aee8a10b939b4eb242b
   "metadata": {},
   "outputs": [],
   "source": [
    "df['number_of_single_Quotes_subject'] = df['Subject'].apply(singleQuote)"
   ]
  },
  {
   "cell_type": "markdown",
   "id": "ecological-maintenance",
   "metadata": {},
   "source": [
    "### Number of semi-colons in Subject "
   ]
  },
  {
   "cell_type": "code",
<<<<<<< HEAD
   "execution_count": 21,
   "id": "faced-equipment",
=======
   "execution_count": 23,
>>>>>>> acdfc9c00f79a6f07fd34aee8a10b939b4eb242b
   "metadata": {},
   "outputs": [],
   "source": [
    "def count_num_semiColon(x):\n",
    "    count = 0\n",
    "    for i in x:\n",
    "        if ';' in i:\n",
    "            count+=1\n",
    "    return count\n"
   ]
  },
  {
   "cell_type": "code",
<<<<<<< HEAD
   "execution_count": 22,
   "id": "listed-lotus",
=======
   "execution_count": 24,
>>>>>>> acdfc9c00f79a6f07fd34aee8a10b939b4eb242b
   "metadata": {},
   "outputs": [],
   "source": [
    "df['number_of_semiColon_subject'] = df['Subject'].apply(count_num_semiColon)"
   ]
  },
  {
   "cell_type": "markdown",
   "id": "cordless-computer",
   "metadata": {},
   "source": [
    "### Ratio upper case  / lower case in subject"
   ]
  },
  {
   "cell_type": "code",
<<<<<<< HEAD
   "execution_count": 23,
   "id": "existing-resort",
=======
   "execution_count": 25,
>>>>>>> acdfc9c00f79a6f07fd34aee8a10b939b4eb242b
   "metadata": {},
   "outputs": [],
   "source": [
    "def ratio_upperCase_lowerCae(x):\n",
    "\n",
    "    countUpp =0\n",
    "    countLow =0\n",
    "\n",
    "    save = x.split(\" \")\n",
    "    for i in save:\n",
    "        if i.isupper():\n",
    "            countUpp+=1\n",
    "        else:\n",
    "            countLow+=1\n",
    "\n",
    "    ratio = countUpp/countLow\n",
    "\n",
    "    return ratio"
   ]
  },
  {
   "cell_type": "code",
<<<<<<< HEAD
   "execution_count": 24,
   "id": "outdoor-peter",
=======
   "execution_count": 26,
>>>>>>> acdfc9c00f79a6f07fd34aee8a10b939b4eb242b
   "metadata": {},
   "outputs": [],
   "source": [
    "df['ratio_of_uppercase/lowercase_words'] = df['Subject'].apply(ratio_upperCase_lowerCae)"
   ]
  },
  {
   "cell_type": "markdown",
   "id": "alike-tokyo",
   "metadata": {},
   "source": [
    "### Total number of uppercase words "
   ]
  },
  {
   "cell_type": "code",
<<<<<<< HEAD
   "execution_count": 25,
   "id": "blessed-durham",
=======
   "execution_count": 27,
>>>>>>> acdfc9c00f79a6f07fd34aee8a10b939b4eb242b
   "metadata": {},
   "outputs": [],
   "source": [
    "def upperCase(x):\n",
    "    count = 0\n",
    "    save = x.split(\" \")\n",
    "    for i in save:\n",
    "        if i.isupper():\n",
    "            count+=1\n",
    "    return count\n"
   ]
  },
  {
   "cell_type": "code",
<<<<<<< HEAD
   "execution_count": 26,
   "id": "adolescent-bermuda",
=======
   "execution_count": 28,
>>>>>>> acdfc9c00f79a6f07fd34aee8a10b939b4eb242b
   "metadata": {},
   "outputs": [],
   "source": [
    "df['Total_number_of_upperCase'] = df['Subject'].apply(upperCase)"
   ]
  },
  {
   "cell_type": "markdown",
   "id": "breeding-milwaukee",
   "metadata": {},
   "source": [
    "### Max. Word length (number of characters on the longest word in Subject) "
   ]
  },
  {
   "cell_type": "code",
<<<<<<< HEAD
   "execution_count": 27,
   "id": "after-taiwan",
=======
   "execution_count": 29,
>>>>>>> acdfc9c00f79a6f07fd34aee8a10b939b4eb242b
   "metadata": {},
   "outputs": [],
   "source": [
    "def MaxWordLength(str): \n",
    "    strLen = len(str) \n",
    "    save = 0; currentLength = 0\n",
    "      \n",
    "    for i in range(0, strLen): \n",
    "        if (str[i] != ' '): \n",
    "            currentLength += 1\n",
    "        else: \n",
    "            save = max(save, currentLength) \n",
    "            currentLength = 0\n",
    "\n",
    "    return max(save, currentLength) "
   ]
  },
  {
   "cell_type": "code",
<<<<<<< HEAD
   "execution_count": 28,
   "id": "juvenile-mouse",
=======
   "execution_count": 30,
>>>>>>> acdfc9c00f79a6f07fd34aee8a10b939b4eb242b
   "metadata": {},
   "outputs": [],
   "source": [
    "df['Max_word_length_in_subject'] = df['Subject'].apply(MaxWordLength)"
   ]
  },
  {
   "cell_type": "markdown",
   "metadata": {},
   "source": [
    "### Is External Domain (0 or 1)"
   ]
  },
  {
   "cell_type": "code",
<<<<<<< HEAD
   "execution_count": 29,
   "id": "whole-breeding",
=======
   "execution_count": null,
   "metadata": {},
   "outputs": [],
   "source": [
    "def isExternalDomain(from_address, to_address):\n",
    "    print(from_address)\n",
    "    from_domain = from_address.split('@')\n",
    "    to_domain = to_address.split('@')\n",
    "    \n",
    "    if from_domain == to_domain:\n",
    "        return 0\n",
    "    else:\n",
    "        return 1"
   ]
  },
  {
   "cell_type": "code",
   "execution_count": null,
   "metadata": {},
   "outputs": [],
   "source": [
    "df['is_external_domain'] = df.apply(df.apply(lambda x: isExternalDomain(x.From, x.To), axis=1))"
   ]
  },
  {
   "cell_type": "markdown",
   "metadata": {},
   "source": [
    "### Check for Spelling Mistakes (0 or 1)"
   ]
  },
  {
   "cell_type": "code",
   "execution_count": null,
   "metadata": {},
   "outputs": [],
   "source": [
    "def containsSpellingMistakes(str):\n",
    "    words = str.split(' ')\n",
    "    spell = Speller(lang='en')\n",
    "    \n",
    "    for word in words:\n",
    "        if spell(word) != word:\n",
    "            return 1\n",
    "    \n",
    "    return 0"
   ]
  },
  {
   "cell_type": "code",
   "execution_count": null,
   "metadata": {},
   "outputs": [],
   "source": [
    "df['contains_spelling_mistakes'] = df['Subject'].apply(containsSpellingMistakes)"
   ]
  },
  {
   "cell_type": "markdown",
   "metadata": {},
   "source": [
    "### Action Verbs in Subject (0 or 1)"
   ]
  },
  {
   "cell_type": "code",
   "execution_count": null,
   "metadata": {},
   "outputs": [],
   "source": [
    "def containsActionVerbsSubject(str):\n",
    "    words = str.split(' ')\n",
    "    \n",
    "    for word in words:\n",
    "        if wn.synsets(word)[0].pos() == 'v':\n",
    "            return 1\n",
    "        \n",
    "    return 0"
   ]
  },
  {
   "cell_type": "code",
   "execution_count": null,
   "metadata": {},
   "outputs": [],
   "source": [
    "df['contains_action_verbs_subject'] = df['Subject'].apply(containsActionVerbsSubject)"
   ]
  },
  {
   "cell_type": "markdown",
   "metadata": {},
   "source": [
    "### Dmarc Protected (0 or 1)"
   ]
  },
  {
   "cell_type": "code",
   "execution_count": null,
   "metadata": {},
   "outputs": [],
   "source": [
    "def isDmarcProtected(str):\n",
    "    host = str[1].split('@')[1]\n",
    "    policy = gs.dmarc.receiver_policy(str)\n",
    "    \n",
    "    if (policy in (gs.dmarc.ReceiverPolicy.quarantine, gs.dmarc.ReceiverPolicy.reject)):\n",
    "        return 0\n",
    "    else:\n",
    "        return 1"
   ]
  },
  {
   "cell_type": "code",
   "execution_count": null,
   "metadata": {},
   "outputs": [],
   "source": [
    "df['is_dmarc_protected'] = df['From'].apply(isDmarcProtected)"
   ]
  },
  {
   "cell_type": "markdown",
>>>>>>> acdfc9c00f79a6f07fd34aee8a10b939b4eb242b
   "metadata": {},
   "source": [
    "### Number of Receivers"
   ]
  },
  {
   "cell_type": "code",
   "execution_count": null,
   "metadata": {},
   "outputs": [],
   "source": [
    "def numberOfReceivers(str):\n",
    "    num_emails = str.count('<')\n",
    "    if num_emails == 0:\n",
    "        return 1\n",
    "    else:\n",
    "        return num_emails"
   ]
  },
  {
   "cell_type": "code",
   "execution_count": null,
   "metadata": {},
   "outputs": [],
   "source": [
    "df['number_of_receivers'] = df['To'].apply(numberOfReceivers)"
   ]
  },
  {
   "cell_type": "markdown",
   "metadata": {},
   "source": [
    "### Is Mail User Agent Empty (0 or 1)"
   ]
  },
  {
   "cell_type": "code",
   "execution_count": null,
   "metadata": {},
   "outputs": [],
   "source": [
    "def isMailUserAgentEmpty(str):\n",
    "    if str == 'unknown':\n",
    "        return 1\n",
    "    return 0"
   ]
  },
  {
   "cell_type": "code",
   "execution_count": null,
   "metadata": {},
   "outputs": [],
   "source": [
    "df['is_mail_user_agent_empty'] = df['X-Mailer'].apply(isMailUserAgentEmpty)"
   ]
  },
  {
   "cell_type": "code",
   "execution_count": null,
   "metadata": {},
   "outputs": [],
   "source": [
    "df"
   ]
  },
  {
   "cell_type": "markdown",
   "id": "electoral-pacific",
   "metadata": {},
   "source": [
    "## Length of the Subject"
   ]
  },
  {
   "cell_type": "code",
   "execution_count": null,
   "metadata": {},
   "outputs": [],
   "source": [
    "def length_subject():\n",
    "    df['Subject_length']  = df['Subject'].str.len()"
   ]
  },
  {
   "cell_type": "markdown",
   "metadata": {},
   "source": [
    "## Date Validation"
   ]
  },
  {
   "cell_type": "code",
   "execution_count": null,
   "metadata": {},
   "outputs": [],
   "source": [
    "def date_validation:\n",
    "    df['Date'] = df['Date'].str[:-2]\n",
    "    #validating date after converting it to datetime\n",
    "    df['new_date'] = pd.to_datetime(df['Date'],errors=\"coerce\")\n",
    "    df['validate_date'] = np.where(df['new_date']< datetime.now(), True, False)"
   ]
  },
  {
   "cell_type": "markdown",
   "metadata": {},
   "source": [
    "## Black listed/White Listed"
   ]
  },
  {
   "cell_type": "code",
   "execution_count": null,
   "metadata": {},
   "outputs": [],
   "source": [
    "def validate_blackListed():\n",
    "    df['new_email'] = df['From'].str.extract(r'([\\w\\.-]+@[\\w\\.-]+)')\n",
    "    df['domain'] = df['new_email'].apply(str).str.split('@').str[1]\n",
    "    list_urls = df['domain'].astype(str).values.tolist()\n",
    "    black_listed = []\n",
    "    white_listed = []\n",
    "    for i in list_urls:\n",
    "        try:\n",
    "            if(i == 'nan'):\n",
    "                continue\n",
    "            elif(i in SPAMHAUS_DBL ):\n",
    "                print(i)\n",
    "                black_listed.append(i)\n",
    "            else:\n",
    "                print(i)\n",
    "                white_listed.append(i)\n",
    "        except:\n",
    "            pass\n",
    "    for index,row in df.iterrows():\n",
    "        if(df['domain'].iloc[index] in black_listed ):\n",
    "            df.iloc[index, df.columns.get_loc('blackListed')] = True\n",
    "        else:\n",
    "            df.iloc[index, df.columns.get_loc('blackListed')] = False\n"
   ]
  },
  {
   "cell_type": "markdown",
   "metadata": {},
   "source": [
    "### Split dataset to train and test"
   ]
  },
  {
   "cell_type": "code",
   "execution_count": 30,
   "id": "british-details",
   "metadata": {},
   "outputs": [],
   "source": [
    "from sklearn.model_selection import train_test_split\n",
    "train, test = train_test_split(df, test_size=0.3)\n",
    "train.to_csv('train_data.csv',index=False)\n",
    "test.to_csv('test_data.csv',index=False)"
   ]
  }
 ],
 "metadata": {
  "kernelspec": {
   "display_name": "Python 3",
   "language": "python",
   "name": "python3"
  },
  "language_info": {
   "codemirror_mode": {
    "name": "ipython",
    "version": 3
   },
   "file_extension": ".py",
   "mimetype": "text/x-python",
   "name": "python",
   "nbconvert_exporter": "python",
   "pygments_lexer": "ipython3",
<<<<<<< HEAD
   "version": "3.9.1"
=======
   "version": "3.8.3"
>>>>>>> acdfc9c00f79a6f07fd34aee8a10b939b4eb242b
  }
 },
 "nbformat": 4,
 "nbformat_minor": 5
}
