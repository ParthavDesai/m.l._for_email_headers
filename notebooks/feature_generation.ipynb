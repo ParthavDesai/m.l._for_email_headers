{
 "cells": [
  {
   "cell_type": "markdown",
   "id": "heated-group",
   "metadata": {},
   "source": [
    "# Feature Generation"
   ]
  },
  {
   "cell_type": "code",
   "execution_count": 1,
   "id": "bridal-blackjack",
   "metadata": {},
   "outputs": [],
   "source": [
    "# Importing necessary libraries\n",
    "import numpy as np\n",
    "import pandas as pd\n",
    "from pathlib import Path"
   ]
  },
  {
   "cell_type": "markdown",
   "id": "written-christian",
   "metadata": {},
   "source": [
    "### Read file"
   ]
  },
  {
   "cell_type": "code",
   "execution_count": 2,
   "id": "radical-colonial",
   "metadata": {},
   "outputs": [],
   "source": [
    "#reading the .csv file and declare datatype to avoid low memory issues\n",
    "df = pd.read_csv(\"preprocessed.csv\",dtype='unicode')"
   ]
  },
  {
   "cell_type": "markdown",
   "id": "reverse-nirvana",
   "metadata": {},
   "source": [
    "## Add new features to the dataset"
   ]
  },
  {
   "cell_type": "markdown",
   "id": "medium-consequence",
   "metadata": {},
   "source": [
    "###  check if the subject contains sepcial characters"
   ]
  },
  {
   "cell_type": "code",
   "execution_count": 3,
   "id": "entire-lindsay",
   "metadata": {},
   "outputs": [],
   "source": [
    "def if_special(x):\n",
    "    special_characters = \"]!@#$%^&*()-+?_=,<>/[\"\n",
    "    for c in x :\n",
    "        if c in special_characters:\n",
    "            return 1\n",
    "    return 0"
   ]
  },
  {
   "cell_type": "code",
   "execution_count": 4,
   "id": "oriental-lloyd",
   "metadata": {},
   "outputs": [],
   "source": [
    "df['special_characters_exists_subject'] = df['Subject'].apply(if_special)"
   ]
  },
  {
   "cell_type": "markdown",
   "id": "relative-chester",
   "metadata": {},
   "source": [
    "### count number of words in subject"
   ]
  },
  {
   "cell_type": "code",
   "execution_count": 5,
   "id": "warming-virus",
   "metadata": {},
   "outputs": [],
   "source": [
    "def count_num_words(x):\n",
    "    w = x.split(\" \")\n",
    "    return len(w)"
   ]
  },
  {
   "cell_type": "code",
   "execution_count": 6,
   "id": "renewable-restoration",
   "metadata": {},
   "outputs": [],
   "source": [
    "df['number_of_words_subject'] = df['Subject'].apply(count_num_words)"
   ]
  },
  {
   "cell_type": "markdown",
   "id": "growing-insider",
   "metadata": {},
   "source": [
    "### count number of capitalized words in subject"
   ]
  },
  {
   "cell_type": "code",
   "execution_count": 7,
   "id": "compact-partition",
   "metadata": {},
   "outputs": [],
   "source": [
    "def count_num_cap_words(x):\n",
    "    w = x.split(\" \")\n",
    "    count = 0\n",
    "    for i in w:\n",
    "        if i.isupper():\n",
    "            count+=1\n",
    "    return count"
   ]
  },
  {
   "cell_type": "code",
   "execution_count": 8,
   "id": "alike-guatemala",
   "metadata": {},
   "outputs": [],
   "source": [
    "df['number_of_capitalized_words_subject'] = df['Subject'].apply(count_num_cap_words)"
   ]
  },
  {
   "cell_type": "markdown",
   "id": "aquatic-adolescent",
   "metadata": {},
   "source": [
    "### count number of capitalized characters in subject"
   ]
  },
  {
   "cell_type": "code",
   "execution_count": 9,
   "id": "printable-cuisine",
   "metadata": {},
   "outputs": [],
   "source": [
    "def count_num_cap_char(x):\n",
    "    count = 0\n",
    "    for i in x:\n",
    "        if i.isupper():\n",
    "            count+=1\n",
    "    return count"
   ]
  },
  {
   "cell_type": "code",
   "execution_count": 10,
   "id": "temporal-accommodation",
   "metadata": {},
   "outputs": [],
   "source": [
    "df['number_of_capitalized_characters_subject'] = df['Subject'].apply(count_num_cap_char)"
   ]
  },
  {
   "cell_type": "markdown",
   "id": "activated-proceeding",
   "metadata": {},
   "source": [
    "### count number of digits in subject"
   ]
  },
  {
   "cell_type": "code",
   "execution_count": 11,
   "id": "balanced-attack",
   "metadata": {},
   "outputs": [],
   "source": [
    "def count_digit(x):\n",
    "    count=0\n",
    "    for i in x:\n",
    "        if i.isdigit():\n",
    "            count+=1\n",
    "    return count"
   ]
  },
  {
   "cell_type": "code",
   "execution_count": 12,
   "id": "completed-sewing",
   "metadata": {},
   "outputs": [],
   "source": [
    "df['number_of_digits_subject'] = df['Subject'].apply(count_digit)"
   ]
  },
  {
   "cell_type": "markdown",
   "id": "adopted-moscow",
   "metadata": {},
   "source": [
    "### count number of characters in subject"
   ]
  },
  {
   "cell_type": "code",
   "execution_count": 13,
   "id": "ambient-interview",
   "metadata": {},
   "outputs": [],
   "source": [
    "def count_num_char(x):\n",
    "    count=0\n",
    "    for i in x:\n",
    "        if i.isalpha():\n",
    "            count+=1\n",
    "    return count"
   ]
  },
  {
   "cell_type": "code",
   "execution_count": 14,
   "id": "close-visitor",
   "metadata": {},
   "outputs": [],
   "source": [
    "df['number_of_characters_subject'] = df['Subject'].apply(count_num_char)"
   ]
  },
  {
   "cell_type": "markdown",
   "id": "loved-operation",
   "metadata": {},
   "source": [
    "###  Total number of spaces in Subject "
   ]
  },
  {
   "cell_type": "code",
   "execution_count": 15,
   "id": "competitive-april",
   "metadata": {},
   "outputs": [],
   "source": [
    "def count_space(x):\n",
    "    count=0\n",
    "    for i in x:\n",
    "        if i.isspace():\n",
    "            count+=1\n",
    "    return count"
   ]
  },
  {
   "cell_type": "code",
   "execution_count": 16,
   "id": "racial-strand",
   "metadata": {},
   "outputs": [],
   "source": [
    "df['number_of_spaces_subject'] = df['Subject'].apply(count_space)"
   ]
  },
  {
   "cell_type": "markdown",
   "id": "appreciated-cable",
   "metadata": {},
   "source": [
    "### Total number of special characters in Subject "
   ]
  },
  {
   "cell_type": "code",
   "execution_count": 17,
   "id": "recent-airplane",
   "metadata": {},
   "outputs": [],
   "source": [
    "def count_special(x):\n",
    "    special_characters = \"]!@#$%^&*()-+?_=,<>/[\"\n",
    "    return len([c for c in x if c in special_characters])"
   ]
  },
  {
   "cell_type": "code",
   "execution_count": 18,
   "id": "extraordinary-bottle",
   "metadata": {},
   "outputs": [],
   "source": [
    "df['number_of_special_characters_subject'] = df['Subject'].apply(count_special)"
   ]
  },
  {
   "cell_type": "markdown",
   "id": "random-contemporary",
   "metadata": {},
   "source": [
    "### Number of single quotes in Subject "
   ]
  },
  {
   "cell_type": "code",
   "execution_count": 19,
   "id": "social-cornell",
   "metadata": {},
   "outputs": [],
   "source": [
    "def singleQuote(x):\n",
    "    count = 0\n",
    "    for res in x:\n",
    "        if \"'\" in res:\n",
    "            count+=1\n",
    "    save = count/2\n",
    "    return save"
   ]
  },
  {
   "cell_type": "code",
   "execution_count": 20,
   "id": "egyptian-container",
   "metadata": {},
   "outputs": [],
   "source": [
    "df['number_of_single_Quotes_subject'] = df['Subject'].apply(singleQuote)"
   ]
  },
  {
   "cell_type": "markdown",
   "id": "ecological-maintenance",
   "metadata": {},
   "source": [
    "### Number of semi-colons in Subject "
   ]
  },
  {
   "cell_type": "code",
   "execution_count": 21,
   "id": "faced-equipment",
   "metadata": {},
   "outputs": [],
   "source": [
    "def count_num_semiColon(x):\n",
    "    count = 0\n",
    "    for i in x:\n",
    "        if ';' in i:\n",
    "            count+=1\n",
    "    return count\n"
   ]
  },
  {
   "cell_type": "code",
   "execution_count": 22,
   "id": "listed-lotus",
   "metadata": {},
   "outputs": [],
   "source": [
    "df['number_of_semiColon_subject'] = df['Subject'].apply(count_num_semiColon)"
   ]
  },
  {
   "cell_type": "markdown",
   "id": "cordless-computer",
   "metadata": {},
   "source": [
    "### Ratio upper case  / lower case in subject"
   ]
  },
  {
   "cell_type": "code",
   "execution_count": 23,
   "id": "existing-resort",
   "metadata": {},
   "outputs": [],
   "source": [
    "def ratio_upperCase_lowerCae(x):\n",
    "\n",
    "    countUpp =0\n",
    "    countLow =0\n",
    "\n",
    "    save = x.split(\" \")\n",
    "    for i in save:\n",
    "        if i.isupper():\n",
    "            countUpp+=1\n",
    "        else:\n",
    "            countLow+=1\n",
    "\n",
    "    ratio = countUpp/countLow\n",
    "\n",
    "    return ratio"
   ]
  },
  {
   "cell_type": "code",
   "execution_count": 24,
   "id": "outdoor-peter",
   "metadata": {},
   "outputs": [],
   "source": [
    "df['ratio_of_uppercase/lowercase_words'] = df['Subject'].apply(ratio_upperCase_lowerCae)"
   ]
  },
  {
   "cell_type": "markdown",
   "id": "alike-tokyo",
   "metadata": {},
   "source": [
    "### Total number of uppercase words "
   ]
  },
  {
   "cell_type": "code",
   "execution_count": 25,
   "id": "blessed-durham",
   "metadata": {},
   "outputs": [],
   "source": [
    "def upperCase(x):\n",
    "    count = 0\n",
    "    save = x.split(\" \")\n",
    "    for i in save:\n",
    "        if i.isupper():\n",
    "            count+=1\n",
    "    return count\n"
   ]
  },
  {
   "cell_type": "code",
   "execution_count": 26,
   "id": "adolescent-bermuda",
   "metadata": {},
   "outputs": [],
   "source": [
    "df['Total_number_of_upperCase'] = df['Subject'].apply(upperCase)"
   ]
  },
  {
   "cell_type": "markdown",
   "id": "breeding-milwaukee",
   "metadata": {},
   "source": [
    "### Max. Word length (number of characters on the longest word in Subject) "
   ]
  },
  {
   "cell_type": "code",
   "execution_count": 27,
   "id": "after-taiwan",
   "metadata": {},
   "outputs": [],
   "source": [
    "def MaxWordLength(str): \n",
    "    strLen = len(str) \n",
    "    save = 0; currentLength = 0\n",
    "      \n",
    "    for i in range(0, strLen): \n",
    "        if (str[i] != ' '): \n",
    "            currentLength += 1\n",
    "        else: \n",
    "            save = max(save, currentLength) \n",
    "            currentLength = 0\n",
    "\n",
    "    return max(save, currentLength) "
   ]
  },
  {
   "cell_type": "code",
   "execution_count": 28,
   "id": "juvenile-mouse",
   "metadata": {},
   "outputs": [],
   "source": [
    "df['Max_word_length_in_subject'] = df['Subject'].apply(MaxWordLength)"
   ]
  },
  {
   "cell_type": "code",
   "execution_count": 29,
   "id": "whole-breeding",
   "metadata": {},
   "outputs": [
    {
     "data": {
      "text/html": [
       "<div>\n",
       "<style scoped>\n",
       "    .dataframe tbody tr th:only-of-type {\n",
       "        vertical-align: middle;\n",
       "    }\n",
       "\n",
       "    .dataframe tbody tr th {\n",
       "        vertical-align: top;\n",
       "    }\n",
       "\n",
       "    .dataframe thead th {\n",
       "        text-align: right;\n",
       "    }\n",
       "</style>\n",
       "<table border=\"1\" class=\"dataframe\">\n",
       "  <thead>\n",
       "    <tr style=\"text-align: right;\">\n",
       "      <th></th>\n",
       "      <th>Return-Path</th>\n",
       "      <th>Message-ID</th>\n",
       "      <th>From</th>\n",
       "      <th>Reply-To</th>\n",
       "      <th>To</th>\n",
       "      <th>Subject</th>\n",
       "      <th>Date</th>\n",
       "      <th>X-Mailer</th>\n",
       "      <th>MIME-Version</th>\n",
       "      <th>Content-Type</th>\n",
       "      <th>...</th>\n",
       "      <th>number_of_capitalized_characters_subject</th>\n",
       "      <th>number_of_digits_subject</th>\n",
       "      <th>number_of_characters_subject</th>\n",
       "      <th>number_of_spaces_subject</th>\n",
       "      <th>number_of_special_characters_subject</th>\n",
       "      <th>number_of_single_Quotes_subject</th>\n",
       "      <th>number_of_semiColon_subject</th>\n",
       "      <th>ratio_of_uppercase/lowercase_words</th>\n",
       "      <th>Total_number_of_upperCase</th>\n",
       "      <th>Max_word_length_in_subject</th>\n",
       "    </tr>\n",
       "  </thead>\n",
       "  <tbody>\n",
       "    <tr>\n",
       "      <th>0</th>\n",
       "      <td>&lt;r-help-bounces@stat.math.ethz.ch&gt;</td>\n",
       "      <td>&lt;122383.93801.qm@web26004.mail.ukl.yahoo.com&gt;</td>\n",
       "      <td>CHANDRAMOULI BANERJEE &lt;cmban_30@yahoo.co.uk&gt;</td>\n",
       "      <td>unknown</td>\n",
       "      <td>r-help@stat.math.ethz.ch</td>\n",
       "      <td>[R] Need Help on Joining 2 text files in R</td>\n",
       "      <td>Wed, 23 May 2007 12</td>\n",
       "      <td>unknown</td>\n",
       "      <td>1.0</td>\n",
       "      <td>text/plain; charset=\"us-ascii\"</td>\n",
       "      <td>...</td>\n",
       "      <td>5</td>\n",
       "      <td>1</td>\n",
       "      <td>30</td>\n",
       "      <td>10</td>\n",
       "      <td>2</td>\n",
       "      <td>0.0</td>\n",
       "      <td>0</td>\n",
       "      <td>0.222222</td>\n",
       "      <td>2</td>\n",
       "      <td>7</td>\n",
       "    </tr>\n",
       "    <tr>\n",
       "      <th>1</th>\n",
       "      <td>&lt;samba-technical-bounces+ktwarwic=speedy.uwat...</td>\n",
       "      <td>unknown</td>\n",
       "      <td>Michael B Allen &lt;mba2000@ioplex.com&gt;</td>\n",
       "      <td>unknown</td>\n",
       "      <td>\"yang mikey\" &lt;mikeyredmoon@gmail.com&gt;</td>\n",
       "      <td>Re</td>\n",
       "      <td>Sun, 10 Jun 2007 23</td>\n",
       "      <td>Sylpheed 2.4.0 (GTK+ 2.10.4; i686-pc-linux-gnu)</td>\n",
       "      <td>0</td>\n",
       "      <td>text/plain; charset=US-ASCII</td>\n",
       "      <td>...</td>\n",
       "      <td>1</td>\n",
       "      <td>0</td>\n",
       "      <td>2</td>\n",
       "      <td>1</td>\n",
       "      <td>0</td>\n",
       "      <td>0.0</td>\n",
       "      <td>0</td>\n",
       "      <td>0.000000</td>\n",
       "      <td>0</td>\n",
       "      <td>2</td>\n",
       "    </tr>\n",
       "    <tr>\n",
       "      <th>2</th>\n",
       "      <td>&lt;LoansAWBC@controldraw.net&gt;</td>\n",
       "      <td>unknown</td>\n",
       "      <td>\"A.W.B.C_Loans\" &lt;LoansAWBC@controldraw.net&gt;</td>\n",
       "      <td>unknown</td>\n",
       "      <td>&lt;producttestpanel@speedy.uwaterloo.ca&gt;</td>\n",
       "      <td>FINANCE certificate enclosed</td>\n",
       "      <td>Wed, 18 Apr 2007 10</td>\n",
       "      <td>unknown</td>\n",
       "      <td>0</td>\n",
       "      <td>text/html; charset=\"iso-8859-1\"</td>\n",
       "      <td>...</td>\n",
       "      <td>7</td>\n",
       "      <td>0</td>\n",
       "      <td>26</td>\n",
       "      <td>3</td>\n",
       "      <td>0</td>\n",
       "      <td>0.0</td>\n",
       "      <td>0</td>\n",
       "      <td>0.333333</td>\n",
       "      <td>1</td>\n",
       "      <td>11</td>\n",
       "    </tr>\n",
       "    <tr>\n",
       "      <th>3</th>\n",
       "      <td>&lt;space_shuttle-jump-ktwarwic=speedy.uwaterloo...</td>\n",
       "      <td>&lt;CE7E4CE628C79245A57591B3A970BB4A07E2A41C@NYC...</td>\n",
       "      <td>\"CBS Space News\" &lt;space_shuttle-ktwarwic=spee...</td>\n",
       "      <td>unknown</td>\n",
       "      <td>ktwarwic@speedy.uwaterloo.ca</td>\n",
       "      <td>4/11 1145a Update</td>\n",
       "      <td>Wed, 11 Apr 2007 11</td>\n",
       "      <td>unknown</td>\n",
       "      <td>1.0</td>\n",
       "      <td>text/html;</td>\n",
       "      <td>...</td>\n",
       "      <td>1</td>\n",
       "      <td>7</td>\n",
       "      <td>7</td>\n",
       "      <td>3</td>\n",
       "      <td>1</td>\n",
       "      <td>0.0</td>\n",
       "      <td>0</td>\n",
       "      <td>0.000000</td>\n",
       "      <td>0</td>\n",
       "      <td>6</td>\n",
       "    </tr>\n",
       "    <tr>\n",
       "      <th>4</th>\n",
       "      <td>&lt;samba-technical-bounces+ktwarwic=speedy.uwat...</td>\n",
       "      <td>unknown</td>\n",
       "      <td>Luke Howard &lt;lukeh@padl.com&gt;</td>\n",
       "      <td>lukeh@padl.com</td>\n",
       "      <td>jerry@samba.org</td>\n",
       "      <td>Re</td>\n",
       "      <td>Fri, 20 Apr 2007 00</td>\n",
       "      <td>unknown</td>\n",
       "      <td>1.0</td>\n",
       "      <td>text/plain; charset=US-ASCII</td>\n",
       "      <td>...</td>\n",
       "      <td>1</td>\n",
       "      <td>0</td>\n",
       "      <td>2</td>\n",
       "      <td>1</td>\n",
       "      <td>0</td>\n",
       "      <td>0.0</td>\n",
       "      <td>0</td>\n",
       "      <td>0.000000</td>\n",
       "      <td>0</td>\n",
       "      <td>2</td>\n",
       "    </tr>\n",
       "    <tr>\n",
       "      <th>...</th>\n",
       "      <td>...</td>\n",
       "      <td>...</td>\n",
       "      <td>...</td>\n",
       "      <td>...</td>\n",
       "      <td>...</td>\n",
       "      <td>...</td>\n",
       "      <td>...</td>\n",
       "      <td>...</td>\n",
       "      <td>...</td>\n",
       "      <td>...</td>\n",
       "      <td>...</td>\n",
       "      <td>...</td>\n",
       "      <td>...</td>\n",
       "      <td>...</td>\n",
       "      <td>...</td>\n",
       "      <td>...</td>\n",
       "      <td>...</td>\n",
       "      <td>...</td>\n",
       "      <td>...</td>\n",
       "      <td>...</td>\n",
       "      <td>...</td>\n",
       "    </tr>\n",
       "    <tr>\n",
       "      <th>62389</th>\n",
       "      <td>&lt;speakup-bounces@braille.uwo.ca&gt;</td>\n",
       "      <td>unknown</td>\n",
       "      <td>Shane &lt;shane-keyword-speakup.aca783@cm.nu&gt;</td>\n",
       "      <td>\"Speakup is a screen review system for Linux.\"</td>\n",
       "      <td>\"Speakup is a screen review system for Linux....</td>\n",
       "      <td>Re</td>\n",
       "      <td>Wed, 09 May 2007 10</td>\n",
       "      <td>unknown</td>\n",
       "      <td>0</td>\n",
       "      <td>text/plain; charset=\"us-ascii\"</td>\n",
       "      <td>...</td>\n",
       "      <td>1</td>\n",
       "      <td>0</td>\n",
       "      <td>2</td>\n",
       "      <td>1</td>\n",
       "      <td>0</td>\n",
       "      <td>0.0</td>\n",
       "      <td>0</td>\n",
       "      <td>0.000000</td>\n",
       "      <td>0</td>\n",
       "      <td>2</td>\n",
       "    </tr>\n",
       "    <tr>\n",
       "      <th>62390</th>\n",
       "      <td>&lt;qepcw9y7j@plumcopper.com&gt;</td>\n",
       "      <td>&lt;462809ee-qepcw9y7j@plumcopper.com&gt;</td>\n",
       "      <td>\"David\" &lt;qepcw9y7j@plumcopper.com&gt;</td>\n",
       "      <td>unknown</td>\n",
       "      <td>\"Subscriber\" &lt;producttestpanel@speedy.uwaterl...</td>\n",
       "      <td>Final Attempt</td>\n",
       "      <td>Thu, 19 Apr 2007 19</td>\n",
       "      <td>unknown</td>\n",
       "      <td>1.0</td>\n",
       "      <td>text/plain; charset=\"UTF-8\"</td>\n",
       "      <td>...</td>\n",
       "      <td>2</td>\n",
       "      <td>0</td>\n",
       "      <td>12</td>\n",
       "      <td>2</td>\n",
       "      <td>0</td>\n",
       "      <td>0.0</td>\n",
       "      <td>0</td>\n",
       "      <td>0.000000</td>\n",
       "      <td>0</td>\n",
       "      <td>7</td>\n",
       "    </tr>\n",
       "    <tr>\n",
       "      <th>62391</th>\n",
       "      <td>&lt;r-help-bounces@stat.math.ethz.ch&gt;</td>\n",
       "      <td>&lt;C2779203.E6%r.turner@auckland.ac.nz&gt;</td>\n",
       "      <td>Rolf Turner &lt;r.turner@auckland.ac.nz&gt;</td>\n",
       "      <td>unknown</td>\n",
       "      <td>Rhelp &lt;r-help@stat.math.ethz.ch&gt;</td>\n",
       "      <td>[R] quartz() on MAC OSX</td>\n",
       "      <td>Mon, 21 May 2007 18</td>\n",
       "      <td>unknown</td>\n",
       "      <td>0</td>\n",
       "      <td>text/plain; charset=\"us-ascii\"</td>\n",
       "      <td>...</td>\n",
       "      <td>7</td>\n",
       "      <td>0</td>\n",
       "      <td>15</td>\n",
       "      <td>5</td>\n",
       "      <td>4</td>\n",
       "      <td>0.0</td>\n",
       "      <td>0</td>\n",
       "      <td>1.000000</td>\n",
       "      <td>3</td>\n",
       "      <td>8</td>\n",
       "    </tr>\n",
       "    <tr>\n",
       "      <th>62392</th>\n",
       "      <td>&lt;samba-cvs-bounces+ktwarwic=speedy.uwaterloo....</td>\n",
       "      <td>unknown</td>\n",
       "      <td>jpeach@samba.org</td>\n",
       "      <td>samba-technical@lists.samba.org</td>\n",
       "      <td>samba-cvs@samba.org</td>\n",
       "      <td>svn commit</td>\n",
       "      <td>2007-06-13 20</td>\n",
       "      <td>unknown</td>\n",
       "      <td>0</td>\n",
       "      <td>text/plain; charset=UTF-8</td>\n",
       "      <td>...</td>\n",
       "      <td>0</td>\n",
       "      <td>0</td>\n",
       "      <td>9</td>\n",
       "      <td>2</td>\n",
       "      <td>0</td>\n",
       "      <td>0.0</td>\n",
       "      <td>0</td>\n",
       "      <td>0.000000</td>\n",
       "      <td>0</td>\n",
       "      <td>6</td>\n",
       "    </tr>\n",
       "    <tr>\n",
       "      <th>62393</th>\n",
       "      <td>&lt;Phoebesiemensclaudia@victorytulsa.org&gt;</td>\n",
       "      <td>unknown</td>\n",
       "      <td>\"Gilda Isaac\" &lt;Phoebesiemensclaudia@victorytu...</td>\n",
       "      <td>unknown</td>\n",
       "      <td>theorize@plg.uwaterloo.ca</td>\n",
       "      <td>alan liverpool alkane</td>\n",
       "      <td>Sun, 17 Jun 2007 01</td>\n",
       "      <td>unknown</td>\n",
       "      <td>0</td>\n",
       "      <td>text/plain; charset=us-ascii</td>\n",
       "      <td>...</td>\n",
       "      <td>0</td>\n",
       "      <td>0</td>\n",
       "      <td>19</td>\n",
       "      <td>3</td>\n",
       "      <td>0</td>\n",
       "      <td>0.0</td>\n",
       "      <td>0</td>\n",
       "      <td>0.000000</td>\n",
       "      <td>0</td>\n",
       "      <td>9</td>\n",
       "    </tr>\n",
       "  </tbody>\n",
       "</table>\n",
       "<p>62394 rows × 30 columns</p>\n",
       "</div>"
      ],
      "text/plain": [
       "                                             Return-Path  \\\n",
       "0                     <r-help-bounces@stat.math.ethz.ch>   \n",
       "1       <samba-technical-bounces+ktwarwic=speedy.uwat...   \n",
       "2                            <LoansAWBC@controldraw.net>   \n",
       "3       <space_shuttle-jump-ktwarwic=speedy.uwaterloo...   \n",
       "4       <samba-technical-bounces+ktwarwic=speedy.uwat...   \n",
       "...                                                  ...   \n",
       "62389                   <speakup-bounces@braille.uwo.ca>   \n",
       "62390                         <qepcw9y7j@plumcopper.com>   \n",
       "62391                 <r-help-bounces@stat.math.ethz.ch>   \n",
       "62392   <samba-cvs-bounces+ktwarwic=speedy.uwaterloo....   \n",
       "62393            <Phoebesiemensclaudia@victorytulsa.org>   \n",
       "\n",
       "                                              Message-ID  \\\n",
       "0          <122383.93801.qm@web26004.mail.ukl.yahoo.com>   \n",
       "1                                                unknown   \n",
       "2                                                unknown   \n",
       "3       <CE7E4CE628C79245A57591B3A970BB4A07E2A41C@NYC...   \n",
       "4                                                unknown   \n",
       "...                                                  ...   \n",
       "62389                                            unknown   \n",
       "62390                <462809ee-qepcw9y7j@plumcopper.com>   \n",
       "62391              <C2779203.E6%r.turner@auckland.ac.nz>   \n",
       "62392                                            unknown   \n",
       "62393                                            unknown   \n",
       "\n",
       "                                                    From  \\\n",
       "0           CHANDRAMOULI BANERJEE <cmban_30@yahoo.co.uk>   \n",
       "1                   Michael B Allen <mba2000@ioplex.com>   \n",
       "2            \"A.W.B.C_Loans\" <LoansAWBC@controldraw.net>   \n",
       "3       \"CBS Space News\" <space_shuttle-ktwarwic=spee...   \n",
       "4                           Luke Howard <lukeh@padl.com>   \n",
       "...                                                  ...   \n",
       "62389         Shane <shane-keyword-speakup.aca783@cm.nu>   \n",
       "62390                 \"David\" <qepcw9y7j@plumcopper.com>   \n",
       "62391              Rolf Turner <r.turner@auckland.ac.nz>   \n",
       "62392                                   jpeach@samba.org   \n",
       "62393   \"Gilda Isaac\" <Phoebesiemensclaudia@victorytu...   \n",
       "\n",
       "                                              Reply-To  \\\n",
       "0                                              unknown   \n",
       "1                                              unknown   \n",
       "2                                              unknown   \n",
       "3                                              unknown   \n",
       "4                                       lukeh@padl.com   \n",
       "...                                                ...   \n",
       "62389   \"Speakup is a screen review system for Linux.\"   \n",
       "62390                                          unknown   \n",
       "62391                                          unknown   \n",
       "62392                  samba-technical@lists.samba.org   \n",
       "62393                                          unknown   \n",
       "\n",
       "                                                      To  \\\n",
       "0                               r-help@stat.math.ethz.ch   \n",
       "1                  \"yang mikey\" <mikeyredmoon@gmail.com>   \n",
       "2                 <producttestpanel@speedy.uwaterloo.ca>   \n",
       "3                           ktwarwic@speedy.uwaterloo.ca   \n",
       "4                                        jerry@samba.org   \n",
       "...                                                  ...   \n",
       "62389   \"Speakup is a screen review system for Linux....   \n",
       "62390   \"Subscriber\" <producttestpanel@speedy.uwaterl...   \n",
       "62391                   Rhelp <r-help@stat.math.ethz.ch>   \n",
       "62392                                samba-cvs@samba.org   \n",
       "62393                          theorize@plg.uwaterloo.ca   \n",
       "\n",
       "                                           Subject                  Date  \\\n",
       "0       [R] Need Help on Joining 2 text files in R   Wed, 23 May 2007 12   \n",
       "1                                               Re   Sun, 10 Jun 2007 23   \n",
       "2                     FINANCE certificate enclosed   Wed, 18 Apr 2007 10   \n",
       "3                                4/11 1145a Update   Wed, 11 Apr 2007 11   \n",
       "4                                               Re   Fri, 20 Apr 2007 00   \n",
       "...                                            ...                   ...   \n",
       "62389                                           Re   Wed, 09 May 2007 10   \n",
       "62390                                Final Attempt   Thu, 19 Apr 2007 19   \n",
       "62391                      [R] quartz() on MAC OSX   Mon, 21 May 2007 18   \n",
       "62392                                   svn commit         2007-06-13 20   \n",
       "62393                        alan liverpool alkane   Sun, 17 Jun 2007 01   \n",
       "\n",
       "                                               X-Mailer MIME-Version  \\\n",
       "0                                               unknown          1.0   \n",
       "1       Sylpheed 2.4.0 (GTK+ 2.10.4; i686-pc-linux-gnu)            0   \n",
       "2                                               unknown            0   \n",
       "3                                               unknown          1.0   \n",
       "4                                               unknown          1.0   \n",
       "...                                                 ...          ...   \n",
       "62389                                           unknown            0   \n",
       "62390                                           unknown          1.0   \n",
       "62391                                           unknown            0   \n",
       "62392                                           unknown            0   \n",
       "62393                                           unknown            0   \n",
       "\n",
       "                           Content-Type  ...  \\\n",
       "0        text/plain; charset=\"us-ascii\"  ...   \n",
       "1          text/plain; charset=US-ASCII  ...   \n",
       "2       text/html; charset=\"iso-8859-1\"  ...   \n",
       "3                            text/html;  ...   \n",
       "4          text/plain; charset=US-ASCII  ...   \n",
       "...                                 ...  ...   \n",
       "62389    text/plain; charset=\"us-ascii\"  ...   \n",
       "62390       text/plain; charset=\"UTF-8\"  ...   \n",
       "62391    text/plain; charset=\"us-ascii\"  ...   \n",
       "62392         text/plain; charset=UTF-8  ...   \n",
       "62393      text/plain; charset=us-ascii  ...   \n",
       "\n",
       "      number_of_capitalized_characters_subject number_of_digits_subject  \\\n",
       "0                                            5                        1   \n",
       "1                                            1                        0   \n",
       "2                                            7                        0   \n",
       "3                                            1                        7   \n",
       "4                                            1                        0   \n",
       "...                                        ...                      ...   \n",
       "62389                                        1                        0   \n",
       "62390                                        2                        0   \n",
       "62391                                        7                        0   \n",
       "62392                                        0                        0   \n",
       "62393                                        0                        0   \n",
       "\n",
       "      number_of_characters_subject number_of_spaces_subject  \\\n",
       "0                               30                       10   \n",
       "1                                2                        1   \n",
       "2                               26                        3   \n",
       "3                                7                        3   \n",
       "4                                2                        1   \n",
       "...                            ...                      ...   \n",
       "62389                            2                        1   \n",
       "62390                           12                        2   \n",
       "62391                           15                        5   \n",
       "62392                            9                        2   \n",
       "62393                           19                        3   \n",
       "\n",
       "      number_of_special_characters_subject number_of_single_Quotes_subject  \\\n",
       "0                                        2                             0.0   \n",
       "1                                        0                             0.0   \n",
       "2                                        0                             0.0   \n",
       "3                                        1                             0.0   \n",
       "4                                        0                             0.0   \n",
       "...                                    ...                             ...   \n",
       "62389                                    0                             0.0   \n",
       "62390                                    0                             0.0   \n",
       "62391                                    4                             0.0   \n",
       "62392                                    0                             0.0   \n",
       "62393                                    0                             0.0   \n",
       "\n",
       "      number_of_semiColon_subject  ratio_of_uppercase/lowercase_words  \\\n",
       "0                               0                            0.222222   \n",
       "1                               0                            0.000000   \n",
       "2                               0                            0.333333   \n",
       "3                               0                            0.000000   \n",
       "4                               0                            0.000000   \n",
       "...                           ...                                 ...   \n",
       "62389                           0                            0.000000   \n",
       "62390                           0                            0.000000   \n",
       "62391                           0                            1.000000   \n",
       "62392                           0                            0.000000   \n",
       "62393                           0                            0.000000   \n",
       "\n",
       "       Total_number_of_upperCase  Max_word_length_in_subject  \n",
       "0                              2                           7  \n",
       "1                              0                           2  \n",
       "2                              1                          11  \n",
       "3                              0                           6  \n",
       "4                              0                           2  \n",
       "...                          ...                         ...  \n",
       "62389                          0                           2  \n",
       "62390                          0                           7  \n",
       "62391                          3                           8  \n",
       "62392                          0                           6  \n",
       "62393                          0                           9  \n",
       "\n",
       "[62394 rows x 30 columns]"
      ]
     },
     "execution_count": 29,
     "metadata": {},
     "output_type": "execute_result"
    }
   ],
   "source": [
    "df"
   ]
  },
  {
   "cell_type": "markdown",
   "id": "electoral-pacific",
   "metadata": {},
   "source": [
    "### Split dataset to train and test"
   ]
  },
  {
   "cell_type": "code",
   "execution_count": 30,
   "id": "british-details",
   "metadata": {},
   "outputs": [],
   "source": [
    "from sklearn.model_selection import train_test_split\n",
    "train, test = train_test_split(df, test_size=0.3)\n",
    "train.to_csv('train_data.csv',index=False)\n",
    "test.to_csv('test_data.csv',index=False)"
   ]
  }
 ],
 "metadata": {
  "kernelspec": {
   "display_name": "Python 3",
   "language": "python",
   "name": "python3"
  },
  "language_info": {
   "codemirror_mode": {
    "name": "ipython",
    "version": 3
   },
   "file_extension": ".py",
   "mimetype": "text/x-python",
   "name": "python",
   "nbconvert_exporter": "python",
   "pygments_lexer": "ipython3",
   "version": "3.9.1"
  }
 },
 "nbformat": 4,
 "nbformat_minor": 5
}
