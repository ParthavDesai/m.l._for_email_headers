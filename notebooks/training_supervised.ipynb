{
 "cells": [
  {
   "cell_type": "markdown",
   "id": "complete-police",
   "metadata": {},
   "source": [
    "# Training the data"
   ]
  },
  {
   "cell_type": "markdown",
   "id": "promotional-syracuse",
   "metadata": {},
   "source": [
    "## Building a Random Forest model"
   ]
  },
  {
   "cell_type": "code",
   "execution_count": 1,
   "id": "tender-tomorrow",
   "metadata": {},
   "outputs": [],
   "source": [
    "import nltk\n",
    "import pandas as pd\n",
    "import re\n",
    "import numpy as np\n",
    "from sklearn.ensemble import RandomForestClassifier\n",
    "from sklearn.model_selection import KFold, cross_val_score\n",
    "from sklearn.model_selection import train_test_split\n",
    "from sklearn.metrics import precision_recall_fscore_support as score\n",
    "from sklearn.model_selection import train_test_split"
   ]
  },
  {
   "cell_type": "code",
   "execution_count": 2,
   "id": "joined-scholar",
   "metadata": {},
   "outputs": [],
   "source": [
    "# original training data\n",
    "train = pd.read_csv(\"train_data.csv\",dtype='unicode')\n",
    "\n",
    "# training data without labels\n",
    "t = pd.read_csv(\"train_data.csv\",dtype='unicode')\n",
    "labels = np.array(t['Label'])\n",
    "t = t.drop(['Label','Return-Path','Message-ID','From','Reply-To','To','Subject','Date','X-Mailer','MIME-Version','Content-Type','X-Priority','X-MSMail-Priority','Status','Content-Length','Content-Transfer-Encoding','Lines'], axis = 1)\n",
    "\n",
    "# get all the features\n",
    "feature_list = list(t.columns)\n",
    "features = np.array(t)"
   ]
  },
  {
   "cell_type": "markdown",
   "id": "minimal-atlas",
   "metadata": {},
   "source": [
    "### training the data"
   ]
  },
  {
   "cell_type": "code",
   "execution_count": 3,
   "id": "guided-contribution",
   "metadata": {},
   "outputs": [],
   "source": [
    "X_train, X_test, y_train, y_test = train_test_split(t, train['Label'], test_size=0.2)"
   ]
  },
  {
   "cell_type": "code",
   "execution_count": 4,
   "id": "posted-gregory",
   "metadata": {},
   "outputs": [],
   "source": [
    "from sklearn.ensemble import RandomForestClassifier\n",
    "\n",
    "rf = RandomForestClassifier(n_estimators=50, max_depth=20, n_jobs=-1)\n",
    "rf_model = rf.fit(X_train, y_train)"
   ]
  },
  {
   "cell_type": "code",
   "execution_count": 5,
   "id": "correct-calculation",
   "metadata": {},
   "outputs": [
    {
     "data": {
      "text/plain": [
       "[(0.4474846984884968, 'number_of_characters_subject'),\n",
       " (0.19510349860179171, 'number_of_words_subject'),\n",
       " (0.180443567711149, 'number_of_capitalized_characters_subject'),\n",
       " (0.08306401273878168, 'number_of_capitalized_words_subject'),\n",
       " (0.05783038995570672, 'number_of_digits_subject'),\n",
       " (0.036073832504074074, 'number_of_special_characters_subject')]"
      ]
     },
     "execution_count": 5,
     "metadata": {},
     "output_type": "execute_result"
    }
   ],
   "source": [
    "sorted(zip(rf_model.feature_importances_, X_train.columns), reverse=True)[0:10]"
   ]
  },
  {
   "cell_type": "markdown",
   "id": "exempt-speech",
   "metadata": {},
   "source": [
    "#### Test for precision, recall and accuracy"
   ]
  },
  {
   "cell_type": "code",
   "execution_count": 6,
   "id": "ongoing-occasion",
   "metadata": {},
   "outputs": [],
   "source": [
    "y_pred = rf_model.predict(X_test)\n",
    "precision, recall, fscore, support = score(y_test, y_pred, pos_label='1', average='binary')"
   ]
  },
  {
   "cell_type": "code",
   "execution_count": 7,
   "id": "wanted-dealing",
   "metadata": {},
   "outputs": [
    {
     "name": "stdout",
     "output_type": "stream",
     "text": [
      "Precision: 0.928 / Recall: 0.92 / Accuracy: 0.903\n"
     ]
    }
   ],
   "source": [
    "print('Precision: {} / Recall: {} / Accuracy: {}'.format(round(precision, 3),\n",
    "                                                        round(recall, 3),\n",
    "                                                        round((y_pred==y_test).sum() / len(y_pred),3)))"
   ]
  },
  {
   "cell_type": "code",
   "execution_count": null,
   "id": "random-employee",
   "metadata": {},
   "outputs": [],
   "source": []
  }
 ],
 "metadata": {
  "kernelspec": {
   "display_name": "Python 3",
   "language": "python",
   "name": "python3"
  },
  "language_info": {
   "codemirror_mode": {
    "name": "ipython",
    "version": 3
   },
   "file_extension": ".py",
   "mimetype": "text/x-python",
   "name": "python",
   "nbconvert_exporter": "python",
   "pygments_lexer": "ipython3",
   "version": "3.9.1"
  }
 },
 "nbformat": 4,
 "nbformat_minor": 5
}
