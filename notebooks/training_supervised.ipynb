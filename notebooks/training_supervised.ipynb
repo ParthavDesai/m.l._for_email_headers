{
 "cells": [
  {
   "cell_type": "markdown",
   "id": "complete-police",
   "metadata": {},
   "source": [
    "# Training the data"
   ]
  },
  {
   "cell_type": "markdown",
   "id": "promotional-syracuse",
   "metadata": {},
   "source": [
    "## Building a Random Forest model"
   ]
  },
  {
   "cell_type": "code",
   "execution_count": 34,
   "id": "tender-tomorrow",
   "metadata": {},
   "outputs": [],
   "source": [
    "import nltk\n",
    "import pandas as pd\n",
    "import re\n",
    "import numpy as np\n",
    "from sklearn.ensemble import RandomForestClassifier\n",
    "from sklearn.model_selection import KFold, cross_val_score\n",
    "from sklearn.model_selection import train_test_split"
   ]
  },
  {
   "cell_type": "code",
   "execution_count": 35,
   "id": "joined-scholar",
   "metadata": {},
   "outputs": [],
   "source": [
    "# original training data\n",
    "train = pd.read_csv(\"train_data.csv\",dtype='unicode')\n",
    "\n",
    "# training data without labels\n",
    "t = pd.read_csv(\"train_data.csv\",dtype='unicode')\n",
    "labels = np.array(t['Label'])\n",
    "t = t.drop(['Label','Return-Path','Message-ID','From','Reply-To','To','Subject','Date','X-Mailer','MIME-Version','Content-Type','X-Priority','X-MSMail-Priority','Status','Content-Length','Content-Transfer-Encoding','Lines'], axis = 1)\n",
    "\n",
    "# get all the features\n",
    "feature_list = list(t.columns)\n",
    "features = np.array(t)"
   ]
  },
  {
   "cell_type": "markdown",
   "id": "minimal-atlas",
   "metadata": {},
   "source": [
    "### training the data"
   ]
  },
  {
   "cell_type": "code",
   "execution_count": 37,
   "id": "ancient-brooks",
   "metadata": {},
   "outputs": [
    {
     "data": {
      "text/plain": [
       "array([0.89605037, 0.89192902, 0.89742416, 0.89295936, 0.895249  ])"
      ]
     },
     "execution_count": 37,
     "metadata": {},
     "output_type": "execute_result"
    }
   ],
   "source": [
    "rf = RandomForestClassifier(n_jobs=-1)\n",
    "k_fold = KFold(n_splits=5)\n",
    "cross_val_score(rf, features, train['Label'], cv=k_fold, scoring='accuracy', n_jobs=-1)"
   ]
  },
  {
   "cell_type": "code",
   "execution_count": null,
   "id": "posted-gregory",
   "metadata": {},
   "outputs": [],
   "source": []
  }
 ],
 "metadata": {
  "kernelspec": {
   "display_name": "Python 3",
   "language": "python",
   "name": "python3"
  },
  "language_info": {
   "codemirror_mode": {
    "name": "ipython",
    "version": 3
   },
   "file_extension": ".py",
   "mimetype": "text/x-python",
   "name": "python",
   "nbconvert_exporter": "python",
   "pygments_lexer": "ipython3",
   "version": "3.9.1"
  }
 },
 "nbformat": 4,
 "nbformat_minor": 5
}
