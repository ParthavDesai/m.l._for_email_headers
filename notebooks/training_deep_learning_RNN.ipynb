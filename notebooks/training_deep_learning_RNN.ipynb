{
 "cells": [
  {
   "cell_type": "markdown",
   "metadata": {},
   "source": [
    "## Deep Learning RNN"
   ]
  },
  {
   "cell_type": "code",
   "execution_count": 120,
   "metadata": {},
   "outputs": [],
   "source": [
    "# importing function \n",
    "import pandas as pd\n",
    "import matplotlib.pyplot as plt\n",
    "import numpy as np\n",
    "import tensorflow as tf\n",
    "from sklearn.metrics import accuracy_score, precision_score, recall_score\n",
    "from sklearn.preprocessing import MinMaxScaler\n",
    "from tensorflow.keras.layers import Activation, Dense, Dropout, LSTM\n",
    "from tensorflow.keras.models import Sequential\n",
    "from tensorflow.keras.preprocessing.sequence import TimeseriesGenerator"
   ]
  },
  {
   "cell_type": "code",
   "execution_count": 95,
   "metadata": {},
   "outputs": [
    {
     "data": {
      "text/html": [
       "<div>\n",
       "<style scoped>\n",
       "    .dataframe tbody tr th:only-of-type {\n",
       "        vertical-align: middle;\n",
       "    }\n",
       "\n",
       "    .dataframe tbody tr th {\n",
       "        vertical-align: top;\n",
       "    }\n",
       "\n",
       "    .dataframe thead th {\n",
       "        text-align: right;\n",
       "    }\n",
       "</style>\n",
       "<table border=\"1\" class=\"dataframe\">\n",
       "  <thead>\n",
       "    <tr style=\"text-align: right;\">\n",
       "      <th></th>\n",
       "      <th>Label</th>\n",
       "      <th>hops</th>\n",
       "      <th>special_characters_exists_subject</th>\n",
       "      <th>number_of_words_subject</th>\n",
       "      <th>number_of_capitalized_words_subject</th>\n",
       "      <th>number_of_capitalized_characters_subject</th>\n",
       "      <th>number_of_digits_subject</th>\n",
       "      <th>number_of_characters_subject</th>\n",
       "      <th>number_of_spaces_subject</th>\n",
       "      <th>number_of_special_characters_subject</th>\n",
       "      <th>number_of_single_Quotes_subject</th>\n",
       "      <th>number_of_semiColon_subject</th>\n",
       "      <th>ratio_of_uppercase/lowercase_words</th>\n",
       "      <th>Total_number_of_upperCase</th>\n",
       "      <th>Max_word_length_in_subject</th>\n",
       "    </tr>\n",
       "  </thead>\n",
       "  <tbody>\n",
       "    <tr>\n",
       "      <th>0</th>\n",
       "      <td>1</td>\n",
       "      <td>3</td>\n",
       "      <td>0</td>\n",
       "      <td>4</td>\n",
       "      <td>0</td>\n",
       "      <td>0</td>\n",
       "      <td>0</td>\n",
       "      <td>19</td>\n",
       "      <td>4</td>\n",
       "      <td>0</td>\n",
       "      <td>0.0</td>\n",
       "      <td>0</td>\n",
       "      <td>0.0</td>\n",
       "      <td>0</td>\n",
       "      <td>9</td>\n",
       "    </tr>\n",
       "    <tr>\n",
       "      <th>1</th>\n",
       "      <td>0</td>\n",
       "      <td>2</td>\n",
       "      <td>0</td>\n",
       "      <td>3</td>\n",
       "      <td>0</td>\n",
       "      <td>0</td>\n",
       "      <td>0</td>\n",
       "      <td>9</td>\n",
       "      <td>2</td>\n",
       "      <td>0</td>\n",
       "      <td>0.0</td>\n",
       "      <td>0</td>\n",
       "      <td>0.0</td>\n",
       "      <td>0</td>\n",
       "      <td>6</td>\n",
       "    </tr>\n",
       "    <tr>\n",
       "      <th>2</th>\n",
       "      <td>0</td>\n",
       "      <td>9</td>\n",
       "      <td>1</td>\n",
       "      <td>6</td>\n",
       "      <td>3</td>\n",
       "      <td>7</td>\n",
       "      <td>0</td>\n",
       "      <td>15</td>\n",
       "      <td>6</td>\n",
       "      <td>4</td>\n",
       "      <td>0.0</td>\n",
       "      <td>0</td>\n",
       "      <td>1.0</td>\n",
       "      <td>3</td>\n",
       "      <td>8</td>\n",
       "    </tr>\n",
       "    <tr>\n",
       "      <th>3</th>\n",
       "      <td>1</td>\n",
       "      <td>1</td>\n",
       "      <td>0</td>\n",
       "      <td>3</td>\n",
       "      <td>0</td>\n",
       "      <td>2</td>\n",
       "      <td>0</td>\n",
       "      <td>12</td>\n",
       "      <td>2</td>\n",
       "      <td>0</td>\n",
       "      <td>0.0</td>\n",
       "      <td>0</td>\n",
       "      <td>0.0</td>\n",
       "      <td>0</td>\n",
       "      <td>7</td>\n",
       "    </tr>\n",
       "    <tr>\n",
       "      <th>4</th>\n",
       "      <td>0</td>\n",
       "      <td>6</td>\n",
       "      <td>0</td>\n",
       "      <td>2</td>\n",
       "      <td>0</td>\n",
       "      <td>1</td>\n",
       "      <td>0</td>\n",
       "      <td>2</td>\n",
       "      <td>1</td>\n",
       "      <td>0</td>\n",
       "      <td>0.0</td>\n",
       "      <td>0</td>\n",
       "      <td>0.0</td>\n",
       "      <td>0</td>\n",
       "      <td>2</td>\n",
       "    </tr>\n",
       "    <tr>\n",
       "      <th>...</th>\n",
       "      <td>...</td>\n",
       "      <td>...</td>\n",
       "      <td>...</td>\n",
       "      <td>...</td>\n",
       "      <td>...</td>\n",
       "      <td>...</td>\n",
       "      <td>...</td>\n",
       "      <td>...</td>\n",
       "      <td>...</td>\n",
       "      <td>...</td>\n",
       "      <td>...</td>\n",
       "      <td>...</td>\n",
       "      <td>...</td>\n",
       "      <td>...</td>\n",
       "      <td>...</td>\n",
       "    </tr>\n",
       "    <tr>\n",
       "      <th>62389</th>\n",
       "      <td>0</td>\n",
       "      <td>4</td>\n",
       "      <td>0</td>\n",
       "      <td>2</td>\n",
       "      <td>0</td>\n",
       "      <td>1</td>\n",
       "      <td>0</td>\n",
       "      <td>2</td>\n",
       "      <td>1</td>\n",
       "      <td>0</td>\n",
       "      <td>0.0</td>\n",
       "      <td>0</td>\n",
       "      <td>0.0</td>\n",
       "      <td>0</td>\n",
       "      <td>2</td>\n",
       "    </tr>\n",
       "    <tr>\n",
       "      <th>62390</th>\n",
       "      <td>0</td>\n",
       "      <td>1</td>\n",
       "      <td>1</td>\n",
       "      <td>4</td>\n",
       "      <td>0</td>\n",
       "      <td>1</td>\n",
       "      <td>7</td>\n",
       "      <td>7</td>\n",
       "      <td>3</td>\n",
       "      <td>1</td>\n",
       "      <td>0.0</td>\n",
       "      <td>0</td>\n",
       "      <td>0.0</td>\n",
       "      <td>0</td>\n",
       "      <td>6</td>\n",
       "    </tr>\n",
       "    <tr>\n",
       "      <th>62391</th>\n",
       "      <td>1</td>\n",
       "      <td>1</td>\n",
       "      <td>0</td>\n",
       "      <td>4</td>\n",
       "      <td>1</td>\n",
       "      <td>7</td>\n",
       "      <td>0</td>\n",
       "      <td>26</td>\n",
       "      <td>4</td>\n",
       "      <td>0</td>\n",
       "      <td>0.0</td>\n",
       "      <td>0</td>\n",
       "      <td>0.3333333333333333</td>\n",
       "      <td>1</td>\n",
       "      <td>11</td>\n",
       "    </tr>\n",
       "    <tr>\n",
       "      <th>62392</th>\n",
       "      <td>0</td>\n",
       "      <td>4</td>\n",
       "      <td>0</td>\n",
       "      <td>2</td>\n",
       "      <td>0</td>\n",
       "      <td>1</td>\n",
       "      <td>0</td>\n",
       "      <td>2</td>\n",
       "      <td>1</td>\n",
       "      <td>0</td>\n",
       "      <td>0.0</td>\n",
       "      <td>0</td>\n",
       "      <td>0.0</td>\n",
       "      <td>0</td>\n",
       "      <td>2</td>\n",
       "    </tr>\n",
       "    <tr>\n",
       "      <th>62393</th>\n",
       "      <td>0</td>\n",
       "      <td>4</td>\n",
       "      <td>1</td>\n",
       "      <td>11</td>\n",
       "      <td>2</td>\n",
       "      <td>5</td>\n",
       "      <td>1</td>\n",
       "      <td>30</td>\n",
       "      <td>11</td>\n",
       "      <td>2</td>\n",
       "      <td>0.0</td>\n",
       "      <td>0</td>\n",
       "      <td>0.2222222222222222</td>\n",
       "      <td>2</td>\n",
       "      <td>7</td>\n",
       "    </tr>\n",
       "  </tbody>\n",
       "</table>\n",
       "<p>62394 rows × 15 columns</p>\n",
       "</div>"
      ],
      "text/plain": [
       "      Label hops special_characters_exists_subject number_of_words_subject  \\\n",
       "0         1    3                                 0                       4   \n",
       "1         0    2                                 0                       3   \n",
       "2         0    9                                 1                       6   \n",
       "3         1    1                                 0                       3   \n",
       "4         0    6                                 0                       2   \n",
       "...     ...  ...                               ...                     ...   \n",
       "62389     0    4                                 0                       2   \n",
       "62390     0    1                                 1                       4   \n",
       "62391     1    1                                 0                       4   \n",
       "62392     0    4                                 0                       2   \n",
       "62393     0    4                                 1                      11   \n",
       "\n",
       "      number_of_capitalized_words_subject  \\\n",
       "0                                       0   \n",
       "1                                       0   \n",
       "2                                       3   \n",
       "3                                       0   \n",
       "4                                       0   \n",
       "...                                   ...   \n",
       "62389                                   0   \n",
       "62390                                   0   \n",
       "62391                                   1   \n",
       "62392                                   0   \n",
       "62393                                   2   \n",
       "\n",
       "      number_of_capitalized_characters_subject number_of_digits_subject  \\\n",
       "0                                            0                        0   \n",
       "1                                            0                        0   \n",
       "2                                            7                        0   \n",
       "3                                            2                        0   \n",
       "4                                            1                        0   \n",
       "...                                        ...                      ...   \n",
       "62389                                        1                        0   \n",
       "62390                                        1                        7   \n",
       "62391                                        7                        0   \n",
       "62392                                        1                        0   \n",
       "62393                                        5                        1   \n",
       "\n",
       "      number_of_characters_subject number_of_spaces_subject  \\\n",
       "0                               19                        4   \n",
       "1                                9                        2   \n",
       "2                               15                        6   \n",
       "3                               12                        2   \n",
       "4                                2                        1   \n",
       "...                            ...                      ...   \n",
       "62389                            2                        1   \n",
       "62390                            7                        3   \n",
       "62391                           26                        4   \n",
       "62392                            2                        1   \n",
       "62393                           30                       11   \n",
       "\n",
       "      number_of_special_characters_subject number_of_single_Quotes_subject  \\\n",
       "0                                        0                             0.0   \n",
       "1                                        0                             0.0   \n",
       "2                                        4                             0.0   \n",
       "3                                        0                             0.0   \n",
       "4                                        0                             0.0   \n",
       "...                                    ...                             ...   \n",
       "62389                                    0                             0.0   \n",
       "62390                                    1                             0.0   \n",
       "62391                                    0                             0.0   \n",
       "62392                                    0                             0.0   \n",
       "62393                                    2                             0.0   \n",
       "\n",
       "      number_of_semiColon_subject ratio_of_uppercase/lowercase_words  \\\n",
       "0                               0                                0.0   \n",
       "1                               0                                0.0   \n",
       "2                               0                                1.0   \n",
       "3                               0                                0.0   \n",
       "4                               0                                0.0   \n",
       "...                           ...                                ...   \n",
       "62389                           0                                0.0   \n",
       "62390                           0                                0.0   \n",
       "62391                           0                 0.3333333333333333   \n",
       "62392                           0                                0.0   \n",
       "62393                           0                 0.2222222222222222   \n",
       "\n",
       "      Total_number_of_upperCase Max_word_length_in_subject  \n",
       "0                             0                          9  \n",
       "1                             0                          6  \n",
       "2                             3                          8  \n",
       "3                             0                          7  \n",
       "4                             0                          2  \n",
       "...                         ...                        ...  \n",
       "62389                         0                          2  \n",
       "62390                         0                          6  \n",
       "62391                         1                         11  \n",
       "62392                         0                          2  \n",
       "62393                         2                          7  \n",
       "\n",
       "[62394 rows x 15 columns]"
      ]
     },
     "execution_count": 95,
     "metadata": {},
     "output_type": "execute_result"
    }
   ],
   "source": [
    "rnn_df = pd.read_csv(\"data_with_features.csv\", dtype='unicode')\n",
    "rnn_df = rnn_df.drop(['Return-Path','Message-ID','From','Reply-To','To','Submitting Host','Subject','Date','X-Mailer','MIME-Version','Content-Type','X-Priority','X-MSMail-Priority','Status','Content-Length','Content-Transfer-Encoding','Lines'], axis = 1)\n",
    "rnn_df"
   ]
  },
  {
   "cell_type": "markdown",
   "metadata": {},
   "source": [
    "#### Split data for testing and training."
   ]
  },
  {
   "cell_type": "code",
   "execution_count": 96,
   "metadata": {},
   "outputs": [],
   "source": [
    "test_size = int(len(rnn_df) * 0.5)\n",
    "train_data = rnn_df.iloc[:-test_size,:].copy()\n",
    "test_data = rnn_df.iloc[-test_size:,:].copy()"
   ]
  },
  {
   "cell_type": "markdown",
   "metadata": {},
   "source": [
    "#### Split training data into labels and features"
   ]
  },
  {
   "cell_type": "code",
   "execution_count": 97,
   "metadata": {},
   "outputs": [],
   "source": [
    "features_train = train_data.drop('Label',axis=1).copy()\n",
    "label_train = train_data[['Label']].copy()"
   ]
  },
  {
   "cell_type": "markdown",
   "metadata": {},
   "source": [
    "#### Convert pandas dataframes to numpy arrays"
   ]
  },
  {
   "cell_type": "code",
   "execution_count": 98,
   "metadata": {},
   "outputs": [
    {
     "name": "stderr",
     "output_type": "stream",
     "text": [
      "/anaconda3/lib/python3.7/site-packages/sklearn/preprocessing/data.py:323: DataConversionWarning: Data with input dtype object were all converted to float64 by MinMaxScaler.\n",
      "  return self.partial_fit(X, y)\n",
      "/anaconda3/lib/python3.7/site-packages/sklearn/preprocessing/data.py:323: DataConversionWarning: Data with input dtype object were all converted to float64 by MinMaxScaler.\n",
      "  return self.partial_fit(X, y)\n"
     ]
    }
   ],
   "source": [
    "feature_scaler = MinMaxScaler(feature_range=(0, 1))\n",
    "feature_scaler.fit(features_train)\n",
    "scaled_feature_train = feature_scaler.transform(features_train)\n",
    "\n",
    "label_scaler = MinMaxScaler(feature_range=(0, 1))\n",
    "label_scaler.fit(label_train)\n",
    "scaled_label_train = label_scaler.transform(label_train)\n",
    "\n",
    "scaled_label_train = scaled_label_train.reshape(-1)\n",
    "\n",
    "\n",
    "scaled_label_train = np.insert(scaled_label_train, 0, 0)\n",
    "scaled_label_train = np.delete(scaled_label_train, -1)"
   ]
  },
  {
   "cell_type": "markdown",
   "metadata": {},
   "source": [
    "#### Merge feature training and label training numpy arrays"
   ]
  },
  {
   "cell_type": "code",
   "execution_count": 99,
   "metadata": {},
   "outputs": [
    {
     "name": "stdout",
     "output_type": "stream",
     "text": [
      "(32, 25, 14)\n"
     ]
    }
   ],
   "source": [
    "n_input = 25 \n",
    "n_features= features_train.shape[1]\n",
    "b_size = 32\n",
    "generator = TimeseriesGenerator(scaled_feature_train, scaled_label_train, length=n_input, batch_size=b_size)\n",
    "\n",
    "print(generator[0][0].shape)"
   ]
  },
  {
   "cell_type": "markdown",
   "metadata": {},
   "source": [
    "#### Instantiate the sequential model"
   ]
  },
  {
   "cell_type": "code",
   "execution_count": 102,
   "metadata": {},
   "outputs": [
    {
     "name": "stdout",
     "output_type": "stream",
     "text": [
      "Model: \"sequential_13\"\n",
      "_________________________________________________________________\n",
      "Layer (type)                 Output Shape              Param #   \n",
      "=================================================================\n",
      "lstm_26 (LSTM)               (None, 25, 128)           73216     \n",
      "_________________________________________________________________\n",
      "dropout_39 (Dropout)         (None, 25, 128)           0         \n",
      "_________________________________________________________________\n",
      "lstm_27 (LSTM)               (None, 128)               131584    \n",
      "_________________________________________________________________\n",
      "dropout_40 (Dropout)         (None, 128)               0         \n",
      "_________________________________________________________________\n",
      "dense_26 (Dense)             (None, 32)                4128      \n",
      "_________________________________________________________________\n",
      "dropout_41 (Dropout)         (None, 32)                0         \n",
      "_________________________________________________________________\n",
      "dense_27 (Dense)             (None, 1)                 33        \n",
      "=================================================================\n",
      "Total params: 208,961\n",
      "Trainable params: 208,961\n",
      "Non-trainable params: 0\n",
      "_________________________________________________________________\n"
     ]
    }
   ],
   "source": [
    "model = Sequential()\n",
    "\n",
    "model.add(LSTM(128, input_shape=(n_input, n_features), activation='relu', return_sequences=True))\n",
    "model.add(Dropout(0.2))\n",
    "\n",
    "model.add(LSTM(128, activation='relu'))\n",
    "model.add(Dropout(0.2))\n",
    "\n",
    "model.add(Dense(32, activation='relu'))\n",
    "model.add(Dropout(0.2))\n",
    "\n",
    "model.add(Dense(1, activation='sigmoid'))\n",
    "\n",
    "model.compile(loss='binary_crossentropy', optimizer='adam', metrics=['accuracy'])\n",
    "\n",
    "model.summary()"
   ]
  },
  {
   "cell_type": "markdown",
   "metadata": {},
   "source": [
    "#### Train RNN model"
   ]
  },
  {
   "cell_type": "code",
   "execution_count": 103,
   "metadata": {},
   "outputs": [
    {
     "name": "stdout",
     "output_type": "stream",
     "text": [
      "Epoch 1/5\n",
      "975/975 [==============================] - 102s 104ms/step - loss: 0.6116 - acc: 0.6776\n",
      "Epoch 2/5\n",
      "975/975 [==============================] - 93s 96ms/step - loss: 0.5118 - acc: 0.7619\n",
      "Epoch 3/5\n",
      "975/975 [==============================] - 91s 93ms/step - loss: 0.4839 - acc: 0.7759\n",
      "Epoch 4/5\n",
      "975/975 [==============================] - 84s 86ms/step - loss: 0.4536 - acc: 0.7872\n",
      "Epoch 5/5\n",
      "975/975 [==============================] - 91s 93ms/step - loss: 0.4364 - acc: 0.7959\n"
     ]
    },
    {
     "data": {
      "text/plain": [
       "<tensorflow.python.keras.callbacks.History at 0x1c58326390>"
      ]
     },
     "execution_count": 103,
     "metadata": {},
     "output_type": "execute_result"
    }
   ],
   "source": [
    "model.fit_generator(generator,epochs=5)"
   ]
  },
  {
   "cell_type": "markdown",
   "metadata": {},
   "source": [
    "#### Plot losses per epoch"
   ]
  },
  {
   "cell_type": "code",
   "execution_count": 104,
   "metadata": {},
   "outputs": [
    {
     "data": {
      "image/png": "[encoded data removed]",
      "text/plain": [
       "<Figure size 432x288 with 1 Axes>"
      ]
     },
     "metadata": {
      "needs_background": "light"
     },
     "output_type": "display_data"
    }
   ],
   "source": [
    "loss_per_epoch = model.history.history['loss']\n",
    "plt.plot(range(len(loss_per_epoch)),loss_per_epoch);"
   ]
  },
  {
   "cell_type": "markdown",
   "metadata": {},
   "source": [
    "#### Split testing data into labels and features"
   ]
  },
  {
   "cell_type": "code",
   "execution_count": 105,
   "metadata": {},
   "outputs": [],
   "source": [
    "features_test = test_data.drop('Label',axis=1).copy()\n",
    "label_test = test_data[['Label']].copy()"
   ]
  },
  {
   "cell_type": "markdown",
   "metadata": {},
   "source": [
    "#### Convert Test Data to numpy arrays"
   ]
  },
  {
   "cell_type": "code",
   "execution_count": 106,
   "metadata": {},
   "outputs": [
    {
     "name": "stdout",
     "output_type": "stream",
     "text": [
      "(32, 25, 14)\n"
     ]
    }
   ],
   "source": [
    "scaled_test_data = feature_scaler.transform(features_test)\n",
    "test_generator = TimeseriesGenerator(scaled_test_data, np.zeros(len(test_data)), length=n_input, batch_size=b_size)\n",
    "print(test_generator[0][0].shape)"
   ]
  },
  {
   "cell_type": "markdown",
   "metadata": {},
   "source": [
    "#### Make predictions"
   ]
  },
  {
   "cell_type": "code",
   "execution_count": 122,
   "metadata": {},
   "outputs": [
    {
     "data": {
      "text/html": [
       "<div>\n",
       "<style scoped>\n",
       "    .dataframe tbody tr th:only-of-type {\n",
       "        vertical-align: middle;\n",
       "    }\n",
       "\n",
       "    .dataframe tbody tr th {\n",
       "        vertical-align: top;\n",
       "    }\n",
       "\n",
       "    .dataframe thead th {\n",
       "        text-align: right;\n",
       "    }\n",
       "</style>\n",
       "<table border=\"1\" class=\"dataframe\">\n",
       "  <thead>\n",
       "    <tr style=\"text-align: right;\">\n",
       "      <th></th>\n",
       "      <th>true</th>\n",
       "      <th>pred</th>\n",
       "    </tr>\n",
       "  </thead>\n",
       "  <tbody>\n",
       "    <tr>\n",
       "      <th>0</th>\n",
       "      <td>0</td>\n",
       "      <td>1</td>\n",
       "    </tr>\n",
       "    <tr>\n",
       "      <th>1</th>\n",
       "      <td>0</td>\n",
       "      <td>1</td>\n",
       "    </tr>\n",
       "    <tr>\n",
       "      <th>2</th>\n",
       "      <td>0</td>\n",
       "      <td>0</td>\n",
       "    </tr>\n",
       "    <tr>\n",
       "      <th>3</th>\n",
       "      <td>1</td>\n",
       "      <td>1</td>\n",
       "    </tr>\n",
       "    <tr>\n",
       "      <th>4</th>\n",
       "      <td>1</td>\n",
       "      <td>1</td>\n",
       "    </tr>\n",
       "    <tr>\n",
       "      <th>...</th>\n",
       "      <td>...</td>\n",
       "      <td>...</td>\n",
       "    </tr>\n",
       "    <tr>\n",
       "      <th>31167</th>\n",
       "      <td>0</td>\n",
       "      <td>1</td>\n",
       "    </tr>\n",
       "    <tr>\n",
       "      <th>31168</th>\n",
       "      <td>0</td>\n",
       "      <td>0</td>\n",
       "    </tr>\n",
       "    <tr>\n",
       "      <th>31169</th>\n",
       "      <td>1</td>\n",
       "      <td>1</td>\n",
       "    </tr>\n",
       "    <tr>\n",
       "      <th>31170</th>\n",
       "      <td>0</td>\n",
       "      <td>1</td>\n",
       "    </tr>\n",
       "    <tr>\n",
       "      <th>31171</th>\n",
       "      <td>0</td>\n",
       "      <td>0</td>\n",
       "    </tr>\n",
       "  </tbody>\n",
       "</table>\n",
       "<p>31172 rows × 2 columns</p>\n",
       "</div>"
      ],
      "text/plain": [
       "       true  pred\n",
       "0         0     1\n",
       "1         0     1\n",
       "2         0     0\n",
       "3         1     1\n",
       "4         1     1\n",
       "...     ...   ...\n",
       "31167     0     1\n",
       "31168     0     0\n",
       "31169     1     1\n",
       "31170     0     1\n",
       "31171     0     0\n",
       "\n",
       "[31172 rows x 2 columns]"
      ]
     },
     "execution_count": 122,
     "metadata": {},
     "output_type": "execute_result"
    }
   ],
   "source": [
    "pred_scaled = model.predict(test_generator)\n",
    "pred = label_scaler.inverse_transform(pred_scaled)\n",
    "results = pd.DataFrame({'true':test_data['Label'].values[n_input:],'pred':pred.ravel()})\n",
    "results.loc[results.pred >= 0.5, 'pred'] = 1\n",
    "results.loc[results.pred < 0.5, 'pred'] = 0\n",
    "results['true'] = results['true'].astype(int)\n",
    "results['pred'] = results['pred'].astype(int)\n",
    "results"
   ]
  },
  {
   "cell_type": "markdown",
   "metadata": {},
   "source": [
    "#### Calculate accuracy"
   ]
  },
  {
   "cell_type": "code",
   "execution_count": 124,
   "metadata": {},
   "outputs": [
    {
     "name": "stdout",
     "output_type": "stream",
     "text": [
      "Accuracy: 0.5458745027588862\n",
      "Precision: 0.6356900425450548\n",
      "Recall: 0.6704986638430898\n"
     ]
    }
   ],
   "source": [
    "accuracy = accuracy_score(results['true'], results['pred'])\n",
    "precision = precision_score(results['true'], results['pred'])\n",
    "recall = recall_score(results['true'], results['pred'])\n",
    "print('Accuracy: %.2f\\nPrecision: %.2f\\nRecall: {recall}'.format(accuracy, precision, recall))"
   ]
  },
  {
   "cell_type": "code",
   "execution_count": null,
   "metadata": {},
   "outputs": [],
   "source": []
  }
 ],
 "metadata": {
  "kernelspec": {
   "display_name": "Python 3",
   "language": "python",
   "name": "python3"
  },
  "language_info": {
   "codemirror_mode": {
    "name": "ipython",
    "version": 3
   },
   "file_extension": ".py",
   "mimetype": "text/x-python",
   "name": "python",
   "nbconvert_exporter": "python",
   "pygments_lexer": "ipython3",
   "version": "3.7.1"
  },
  "toc": {
   "base_numbering": 1,
   "nav_menu": {},
   "number_sections": true,
   "sideBar": true,
   "skip_h1_title": false,
   "title_cell": "Table of Contents",
   "title_sidebar": "Contents",
   "toc_cell": false,
   "toc_position": {},
   "toc_section_display": true,
   "toc_window_display": false
  }
 },
 "nbformat": 4,
 "nbformat_minor": 5
}
