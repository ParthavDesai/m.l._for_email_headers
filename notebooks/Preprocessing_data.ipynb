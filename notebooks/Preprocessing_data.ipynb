{
 "cells": [
  {
   "cell_type": "code",
   "execution_count": 2,
   "metadata": {
    "scrolled": true
   },
   "outputs": [],
   "source": [
    "import pandas as pd\n",
    "\n",
    "#reading the .csv file\n",
    "emails = pd.read_csv(\"enron.csv\")\n",
    "\n",
    "#removing duplicates and removing \\n characters and re\n",
    "emails.drop_duplicates()\n",
    "emails = emails.replace(\"\\n\",\"\",regex = True)\n",
    "emails = emails.replace(\"re :\",\"\",regex = True)\n",
    "#analyzing types\n",
    "data_types = emails.dtypes\n",
    "\n",
    "#normalizing data\n",
    "#removing punctuation and lowercase\n",
    "emails[\"Header\"] = emails[\"Header\"].str.lower()\n",
    "emails[\"Header\"] = emails[\"Header\"].str.replace('[^\\w\\s]','')\n",
    "\n",
    "emails.to_csv(r'Processed_Email.csv')"
   ]
  },
  {
   "cell_type": "code",
   "execution_count": null,
   "metadata": {},
   "outputs": [],
   "source": []
  }
 ],
 "metadata": {
  "kernelspec": {
   "display_name": "Python 3",
   "language": "python",
   "name": "python3"
  },
  "language_info": {
   "codemirror_mode": {
    "name": "ipython",
    "version": 3
   },
   "file_extension": ".py",
   "mimetype": "text/x-python",
   "name": "python",
   "nbconvert_exporter": "python",
   "pygments_lexer": "ipython3",
   "version": "3.8.3"
  }
 },
 "nbformat": 4,
 "nbformat_minor": 4
}
